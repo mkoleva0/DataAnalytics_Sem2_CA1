{
 "cells": [
  {
   "cell_type": "code",
   "execution_count": 314,
   "id": "c5e6f50c",
   "metadata": {},
   "outputs": [],
   "source": [
    "import math\n",
    "import numpy as np\n",
    "import pandas as pd\n",
    "from datetime import datetime\n",
    "import time\n",
    "from sklearn.preprocessing import MinMaxScaler\n",
    "from sklearn.metrics import mean_squared_error, r2_score\n",
    "from keras.models import Sequential\n",
    "from keras.layers import Dense, LSTM\n",
    "from tensorflow.keras.layers import Dropout\n",
    "import matplotlib.pyplot as plt\n",
    "plt.style.use('fivethirtyeight')\n"
   ]
  },
  {
   "cell_type": "code",
   "execution_count": 315,
   "id": "80945f5b",
   "metadata": {},
   "outputs": [],
   "source": [
    "consumption_df = pd.read_csv('household_power_consumption.txt', sep=';')"
   ]
  },
  {
   "cell_type": "markdown",
   "id": "ac8cbb70",
   "metadata": {},
   "source": [
    "Measurements of electric power consumption in one household with a one-minute sampling rate over a period of almost 4 years. Different electrical quantities and some sub-metering values are available.\n",
    "\n",
    "https://archive.ics.uci.edu/dataset/235/individual+household+electric+power+consumption\n",
    "\n",
    "This dataset is licensed under a Creative Commons Attribution 4.0 International (CC BY 4.0) license."
   ]
  },
  {
   "cell_type": "code",
   "execution_count": 274,
   "id": "60345896",
   "metadata": {
    "scrolled": true
   },
   "outputs": [
    {
     "data": {
      "text/html": [
       "<div>\n",
       "<style scoped>\n",
       "    .dataframe tbody tr th:only-of-type {\n",
       "        vertical-align: middle;\n",
       "    }\n",
       "\n",
       "    .dataframe tbody tr th {\n",
       "        vertical-align: top;\n",
       "    }\n",
       "\n",
       "    .dataframe thead th {\n",
       "        text-align: right;\n",
       "    }\n",
       "</style>\n",
       "<table border=\"1\" class=\"dataframe\">\n",
       "  <thead>\n",
       "    <tr style=\"text-align: right;\">\n",
       "      <th></th>\n",
       "      <th>Date</th>\n",
       "      <th>Time</th>\n",
       "      <th>Global_active_power</th>\n",
       "      <th>Global_reactive_power</th>\n",
       "      <th>Voltage</th>\n",
       "      <th>Global_intensity</th>\n",
       "      <th>Sub_metering_1</th>\n",
       "      <th>Sub_metering_2</th>\n",
       "      <th>Sub_metering_3</th>\n",
       "    </tr>\n",
       "  </thead>\n",
       "  <tbody>\n",
       "    <tr>\n",
       "      <th>0</th>\n",
       "      <td>16/12/2006</td>\n",
       "      <td>17:24:00</td>\n",
       "      <td>4.216</td>\n",
       "      <td>0.418</td>\n",
       "      <td>234.840</td>\n",
       "      <td>18.400</td>\n",
       "      <td>0.000</td>\n",
       "      <td>1.000</td>\n",
       "      <td>17.0</td>\n",
       "    </tr>\n",
       "    <tr>\n",
       "      <th>1</th>\n",
       "      <td>16/12/2006</td>\n",
       "      <td>17:25:00</td>\n",
       "      <td>5.360</td>\n",
       "      <td>0.436</td>\n",
       "      <td>233.630</td>\n",
       "      <td>23.000</td>\n",
       "      <td>0.000</td>\n",
       "      <td>1.000</td>\n",
       "      <td>16.0</td>\n",
       "    </tr>\n",
       "    <tr>\n",
       "      <th>2</th>\n",
       "      <td>16/12/2006</td>\n",
       "      <td>17:26:00</td>\n",
       "      <td>5.374</td>\n",
       "      <td>0.498</td>\n",
       "      <td>233.290</td>\n",
       "      <td>23.000</td>\n",
       "      <td>0.000</td>\n",
       "      <td>2.000</td>\n",
       "      <td>17.0</td>\n",
       "    </tr>\n",
       "    <tr>\n",
       "      <th>3</th>\n",
       "      <td>16/12/2006</td>\n",
       "      <td>17:27:00</td>\n",
       "      <td>5.388</td>\n",
       "      <td>0.502</td>\n",
       "      <td>233.740</td>\n",
       "      <td>23.000</td>\n",
       "      <td>0.000</td>\n",
       "      <td>1.000</td>\n",
       "      <td>17.0</td>\n",
       "    </tr>\n",
       "    <tr>\n",
       "      <th>4</th>\n",
       "      <td>16/12/2006</td>\n",
       "      <td>17:28:00</td>\n",
       "      <td>3.666</td>\n",
       "      <td>0.528</td>\n",
       "      <td>235.680</td>\n",
       "      <td>15.800</td>\n",
       "      <td>0.000</td>\n",
       "      <td>1.000</td>\n",
       "      <td>17.0</td>\n",
       "    </tr>\n",
       "  </tbody>\n",
       "</table>\n",
       "</div>"
      ],
      "text/plain": [
       "         Date      Time Global_active_power Global_reactive_power  Voltage  \\\n",
       "0  16/12/2006  17:24:00               4.216                 0.418  234.840   \n",
       "1  16/12/2006  17:25:00               5.360                 0.436  233.630   \n",
       "2  16/12/2006  17:26:00               5.374                 0.498  233.290   \n",
       "3  16/12/2006  17:27:00               5.388                 0.502  233.740   \n",
       "4  16/12/2006  17:28:00               3.666                 0.528  235.680   \n",
       "\n",
       "  Global_intensity Sub_metering_1 Sub_metering_2  Sub_metering_3  \n",
       "0           18.400          0.000          1.000            17.0  \n",
       "1           23.000          0.000          1.000            16.0  \n",
       "2           23.000          0.000          2.000            17.0  \n",
       "3           23.000          0.000          1.000            17.0  \n",
       "4           15.800          0.000          1.000            17.0  "
      ]
     },
     "execution_count": 274,
     "metadata": {},
     "output_type": "execute_result"
    }
   ],
   "source": [
    "consumption_df.head()"
   ]
  },
  {
   "cell_type": "code",
   "execution_count": 275,
   "id": "37f66b8b",
   "metadata": {},
   "outputs": [
    {
     "data": {
      "text/html": [
       "<div>\n",
       "<style scoped>\n",
       "    .dataframe tbody tr th:only-of-type {\n",
       "        vertical-align: middle;\n",
       "    }\n",
       "\n",
       "    .dataframe tbody tr th {\n",
       "        vertical-align: top;\n",
       "    }\n",
       "\n",
       "    .dataframe thead th {\n",
       "        text-align: right;\n",
       "    }\n",
       "</style>\n",
       "<table border=\"1\" class=\"dataframe\">\n",
       "  <thead>\n",
       "    <tr style=\"text-align: right;\">\n",
       "      <th></th>\n",
       "      <th>Global_active_power</th>\n",
       "      <th>Global_reactive_power</th>\n",
       "      <th>Voltage</th>\n",
       "      <th>Global_intensity</th>\n",
       "      <th>Sub_metering_1</th>\n",
       "      <th>Sub_metering_2</th>\n",
       "      <th>Sub_metering_3</th>\n",
       "      <th>Datetime</th>\n",
       "    </tr>\n",
       "  </thead>\n",
       "  <tbody>\n",
       "    <tr>\n",
       "      <th>0</th>\n",
       "      <td>4.216</td>\n",
       "      <td>0.418</td>\n",
       "      <td>234.840</td>\n",
       "      <td>18.400</td>\n",
       "      <td>0.000</td>\n",
       "      <td>1.000</td>\n",
       "      <td>17.0</td>\n",
       "      <td>2006-12-16 17:24:00</td>\n",
       "    </tr>\n",
       "    <tr>\n",
       "      <th>1</th>\n",
       "      <td>5.360</td>\n",
       "      <td>0.436</td>\n",
       "      <td>233.630</td>\n",
       "      <td>23.000</td>\n",
       "      <td>0.000</td>\n",
       "      <td>1.000</td>\n",
       "      <td>16.0</td>\n",
       "      <td>2006-12-16 17:25:00</td>\n",
       "    </tr>\n",
       "    <tr>\n",
       "      <th>2</th>\n",
       "      <td>5.374</td>\n",
       "      <td>0.498</td>\n",
       "      <td>233.290</td>\n",
       "      <td>23.000</td>\n",
       "      <td>0.000</td>\n",
       "      <td>2.000</td>\n",
       "      <td>17.0</td>\n",
       "      <td>2006-12-16 17:26:00</td>\n",
       "    </tr>\n",
       "    <tr>\n",
       "      <th>3</th>\n",
       "      <td>5.388</td>\n",
       "      <td>0.502</td>\n",
       "      <td>233.740</td>\n",
       "      <td>23.000</td>\n",
       "      <td>0.000</td>\n",
       "      <td>1.000</td>\n",
       "      <td>17.0</td>\n",
       "      <td>2006-12-16 17:27:00</td>\n",
       "    </tr>\n",
       "    <tr>\n",
       "      <th>4</th>\n",
       "      <td>3.666</td>\n",
       "      <td>0.528</td>\n",
       "      <td>235.680</td>\n",
       "      <td>15.800</td>\n",
       "      <td>0.000</td>\n",
       "      <td>1.000</td>\n",
       "      <td>17.0</td>\n",
       "      <td>2006-12-16 17:28:00</td>\n",
       "    </tr>\n",
       "  </tbody>\n",
       "</table>\n",
       "</div>"
      ],
      "text/plain": [
       "  Global_active_power Global_reactive_power  Voltage Global_intensity  \\\n",
       "0               4.216                 0.418  234.840           18.400   \n",
       "1               5.360                 0.436  233.630           23.000   \n",
       "2               5.374                 0.498  233.290           23.000   \n",
       "3               5.388                 0.502  233.740           23.000   \n",
       "4               3.666                 0.528  235.680           15.800   \n",
       "\n",
       "  Sub_metering_1 Sub_metering_2  Sub_metering_3            Datetime  \n",
       "0          0.000          1.000            17.0 2006-12-16 17:24:00  \n",
       "1          0.000          1.000            16.0 2006-12-16 17:25:00  \n",
       "2          0.000          2.000            17.0 2006-12-16 17:26:00  \n",
       "3          0.000          1.000            17.0 2006-12-16 17:27:00  \n",
       "4          0.000          1.000            17.0 2006-12-16 17:28:00  "
      ]
     },
     "execution_count": 275,
     "metadata": {},
     "output_type": "execute_result"
    }
   ],
   "source": [
    "consumption_df['Datetime'] = pd.to_datetime(consumption_df['Date'] + ' ' + consumption_df['Time'])\n",
    "\n",
    "# You might want to drop the original Date and Time columns if they are no longer needed\n",
    "consumption_df = consumption_df.drop(columns=['Date', 'Time'])\n",
    "\n",
    "consumption_df.head()"
   ]
  },
  {
   "cell_type": "code",
   "execution_count": 276,
   "id": "aa0ad5af",
   "metadata": {},
   "outputs": [
    {
     "name": "stdout",
     "output_type": "stream",
     "text": [
      "<class 'pandas.core.frame.DataFrame'>\n",
      "RangeIndex: 2075259 entries, 0 to 2075258\n",
      "Data columns (total 8 columns):\n",
      " #   Column                 Dtype         \n",
      "---  ------                 -----         \n",
      " 0   Global_active_power    object        \n",
      " 1   Global_reactive_power  object        \n",
      " 2   Voltage                object        \n",
      " 3   Global_intensity       object        \n",
      " 4   Sub_metering_1         object        \n",
      " 5   Sub_metering_2         object        \n",
      " 6   Sub_metering_3         float64       \n",
      " 7   Datetime               datetime64[ns]\n",
      "dtypes: datetime64[ns](1), float64(1), object(6)\n",
      "memory usage: 126.7+ MB\n"
     ]
    }
   ],
   "source": [
    "consumption_df.info()"
   ]
  },
  {
   "cell_type": "code",
   "execution_count": 277,
   "id": "f69ab12f",
   "metadata": {},
   "outputs": [],
   "source": [
    "for col in consumption_df.columns:\n",
    "    if consumption_df[col].dtype == 'object':\n",
    "        consumption_df[col] = pd.to_numeric(consumption_df[col], errors='coerce')"
   ]
  },
  {
   "cell_type": "code",
   "execution_count": 278,
   "id": "e21d5b2e",
   "metadata": {},
   "outputs": [
    {
     "name": "stdout",
     "output_type": "stream",
     "text": [
      "<class 'pandas.core.frame.DataFrame'>\n",
      "RangeIndex: 2075259 entries, 0 to 2075258\n",
      "Data columns (total 8 columns):\n",
      " #   Column                 Dtype         \n",
      "---  ------                 -----         \n",
      " 0   Global_active_power    float64       \n",
      " 1   Global_reactive_power  float64       \n",
      " 2   Voltage                float64       \n",
      " 3   Global_intensity       float64       \n",
      " 4   Sub_metering_1         float64       \n",
      " 5   Sub_metering_2         float64       \n",
      " 6   Sub_metering_3         float64       \n",
      " 7   Datetime               datetime64[ns]\n",
      "dtypes: datetime64[ns](1), float64(7)\n",
      "memory usage: 126.7 MB\n"
     ]
    }
   ],
   "source": [
    "consumption_df.info()"
   ]
  },
  {
   "cell_type": "code",
   "execution_count": 279,
   "id": "e15b6f70",
   "metadata": {},
   "outputs": [
    {
     "data": {
      "text/plain": [
       "Global_active_power      25979\n",
       "Global_reactive_power    25979\n",
       "Voltage                  25979\n",
       "Global_intensity         25979\n",
       "Sub_metering_1           25979\n",
       "Sub_metering_2           25979\n",
       "Sub_metering_3           25979\n",
       "Datetime                     0\n",
       "dtype: int64"
      ]
     },
     "execution_count": 279,
     "metadata": {},
     "output_type": "execute_result"
    }
   ],
   "source": [
    "consumption_df.isnull().sum()"
   ]
  },
  {
   "cell_type": "code",
   "execution_count": 280,
   "id": "6ef19d29",
   "metadata": {},
   "outputs": [
    {
     "name": "stdout",
     "output_type": "stream",
     "text": [
      "       Global_active_power  Global_reactive_power  Voltage  Global_intensity  \\\n",
      "6839                   NaN                    NaN      NaN               NaN   \n",
      "6840                   NaN                    NaN      NaN               NaN   \n",
      "19724                  NaN                    NaN      NaN               NaN   \n",
      "19725                  NaN                    NaN      NaN               NaN   \n",
      "41832                  NaN                    NaN      NaN               NaN   \n",
      "\n",
      "       Sub_metering_1  Sub_metering_2  Sub_metering_3            Datetime  \n",
      "6839              NaN             NaN             NaN 2006-12-21 11:23:00  \n",
      "6840              NaN             NaN             NaN 2006-12-21 11:24:00  \n",
      "19724             NaN             NaN             NaN 2006-12-30 10:08:00  \n",
      "19725             NaN             NaN             NaN 2006-12-30 10:09:00  \n",
      "41832             NaN             NaN             NaN 2007-01-14 18:36:00  \n"
     ]
    }
   ],
   "source": [
    "missing_data_rows = consumption_df[consumption_df['Global_active_power'].isnull()]\n",
    "\n",
    "print(missing_data_rows.head())\n"
   ]
  },
  {
   "cell_type": "markdown",
   "id": "1272195d",
   "metadata": {},
   "source": [
    "I will be interploating the missing values as for the time-series analysis is crucial to keep the sequence of the data - https://pandas.pydata.org/pandas-docs/stable/reference/api/pandas.DataFrame.interpolate.html"
   ]
  },
  {
   "cell_type": "code",
   "execution_count": 281,
   "id": "8a1ce06e",
   "metadata": {},
   "outputs": [
    {
     "data": {
      "text/html": [
       "<div>\n",
       "<style scoped>\n",
       "    .dataframe tbody tr th:only-of-type {\n",
       "        vertical-align: middle;\n",
       "    }\n",
       "\n",
       "    .dataframe tbody tr th {\n",
       "        vertical-align: top;\n",
       "    }\n",
       "\n",
       "    .dataframe thead th {\n",
       "        text-align: right;\n",
       "    }\n",
       "</style>\n",
       "<table border=\"1\" class=\"dataframe\">\n",
       "  <thead>\n",
       "    <tr style=\"text-align: right;\">\n",
       "      <th></th>\n",
       "      <th>Global_active_power</th>\n",
       "    </tr>\n",
       "    <tr>\n",
       "      <th>Datetime</th>\n",
       "      <th></th>\n",
       "    </tr>\n",
       "  </thead>\n",
       "  <tbody>\n",
       "    <tr>\n",
       "      <th>2006-12-16 17:24:00</th>\n",
       "      <td>4.216</td>\n",
       "    </tr>\n",
       "    <tr>\n",
       "      <th>2006-12-16 17:25:00</th>\n",
       "      <td>5.360</td>\n",
       "    </tr>\n",
       "    <tr>\n",
       "      <th>2006-12-16 17:26:00</th>\n",
       "      <td>5.374</td>\n",
       "    </tr>\n",
       "    <tr>\n",
       "      <th>2006-12-16 17:27:00</th>\n",
       "      <td>5.388</td>\n",
       "    </tr>\n",
       "    <tr>\n",
       "      <th>2006-12-16 17:28:00</th>\n",
       "      <td>3.666</td>\n",
       "    </tr>\n",
       "  </tbody>\n",
       "</table>\n",
       "</div>"
      ],
      "text/plain": [
       "                     Global_active_power\n",
       "Datetime                                \n",
       "2006-12-16 17:24:00                4.216\n",
       "2006-12-16 17:25:00                5.360\n",
       "2006-12-16 17:26:00                5.374\n",
       "2006-12-16 17:27:00                5.388\n",
       "2006-12-16 17:28:00                3.666"
      ]
     },
     "execution_count": 281,
     "metadata": {},
     "output_type": "execute_result"
    }
   ],
   "source": [
    "df_simplified = consumption_df[['Datetime', 'Global_active_power']].copy()\n",
    "\n",
    "df_simplified.set_index('Datetime', inplace=True)\n",
    "\n",
    "# Handle missing values. Here, we'll use forward fill as an example\n",
    "df_simplified['Global_active_power'].fillna(method='ffill', inplace=True)\n",
    "\n",
    "df_simplified.head()"
   ]
  },
  {
   "cell_type": "code",
   "execution_count": 282,
   "id": "1162fef5",
   "metadata": {},
   "outputs": [
    {
     "name": "stdout",
     "output_type": "stream",
     "text": [
      "DatetimeIndex(['2006-12-16 17:24:00', '2006-12-16 17:25:00',\n",
      "               '2006-12-16 17:26:00', '2006-12-16 17:27:00',\n",
      "               '2006-12-16 17:28:00', '2006-12-16 17:29:00',\n",
      "               '2006-12-16 17:30:00', '2006-12-16 17:31:00',\n",
      "               '2006-12-16 17:32:00', '2006-12-16 17:33:00',\n",
      "               ...\n",
      "               '2010-11-26 20:53:00', '2010-11-26 20:54:00',\n",
      "               '2010-11-26 20:55:00', '2010-11-26 20:56:00',\n",
      "               '2010-11-26 20:57:00', '2010-11-26 20:58:00',\n",
      "               '2010-11-26 20:59:00', '2010-11-26 21:00:00',\n",
      "               '2010-11-26 21:01:00', '2010-11-26 21:02:00'],\n",
      "              dtype='datetime64[ns]', name='Datetime', length=2075259, freq=None)\n"
     ]
    }
   ],
   "source": [
    "print(df_simplified.index)"
   ]
  },
  {
   "cell_type": "code",
   "execution_count": 283,
   "id": "4ff4a90f",
   "metadata": {},
   "outputs": [
    {
     "data": {
      "text/plain": [
       "Global_active_power    0\n",
       "dtype: int64"
      ]
     },
     "execution_count": 283,
     "metadata": {},
     "output_type": "execute_result"
    }
   ],
   "source": [
    "df_simplified.isnull().sum()"
   ]
  },
  {
   "cell_type": "markdown",
   "id": "9ebd6853",
   "metadata": {},
   "source": [
    "As the dataset has entry values for each minute, I will aggregate this on an hourly level (taking the mean value) as I am intrested in the hourly consumption. "
   ]
  },
  {
   "cell_type": "code",
   "execution_count": 290,
   "id": "3c38f873",
   "metadata": {},
   "outputs": [
    {
     "data": {
      "text/html": [
       "<div>\n",
       "<style scoped>\n",
       "    .dataframe tbody tr th:only-of-type {\n",
       "        vertical-align: middle;\n",
       "    }\n",
       "\n",
       "    .dataframe tbody tr th {\n",
       "        vertical-align: top;\n",
       "    }\n",
       "\n",
       "    .dataframe thead th {\n",
       "        text-align: right;\n",
       "    }\n",
       "</style>\n",
       "<table border=\"1\" class=\"dataframe\">\n",
       "  <thead>\n",
       "    <tr style=\"text-align: right;\">\n",
       "      <th></th>\n",
       "      <th>Global_active_power</th>\n",
       "    </tr>\n",
       "    <tr>\n",
       "      <th>Datetime</th>\n",
       "      <th></th>\n",
       "    </tr>\n",
       "  </thead>\n",
       "  <tbody>\n",
       "    <tr>\n",
       "      <th>2006-12-16 17:00:00</th>\n",
       "      <td>4.222889</td>\n",
       "    </tr>\n",
       "    <tr>\n",
       "      <th>2006-12-16 18:00:00</th>\n",
       "      <td>3.632200</td>\n",
       "    </tr>\n",
       "    <tr>\n",
       "      <th>2006-12-16 19:00:00</th>\n",
       "      <td>3.400233</td>\n",
       "    </tr>\n",
       "    <tr>\n",
       "      <th>2006-12-16 20:00:00</th>\n",
       "      <td>3.268567</td>\n",
       "    </tr>\n",
       "    <tr>\n",
       "      <th>2006-12-16 21:00:00</th>\n",
       "      <td>3.056467</td>\n",
       "    </tr>\n",
       "  </tbody>\n",
       "</table>\n",
       "</div>"
      ],
      "text/plain": [
       "                     Global_active_power\n",
       "Datetime                                \n",
       "2006-12-16 17:00:00             4.222889\n",
       "2006-12-16 18:00:00             3.632200\n",
       "2006-12-16 19:00:00             3.400233\n",
       "2006-12-16 20:00:00             3.268567\n",
       "2006-12-16 21:00:00             3.056467"
      ]
     },
     "execution_count": 290,
     "metadata": {},
     "output_type": "execute_result"
    }
   ],
   "source": [
    "# Assuming your DataFrame is named df and 'Datetime' is already set as the datetime index\n",
    "# If 'Datetime' is not the index, you would first do:\n",
    "# df_simplified['Datetime'] = df_simplified.to_datetime(df['Datetime'])\n",
    "# df_simplified.set_index('Datetime', inplace=True)\n",
    "\n",
    "# Resample to hourly data and compute the mean\n",
    "hourly_df = df_simplified.resample('H').mean()\n",
    "\n",
    "# Let's check the first few rows of the aggregated hourly data\n",
    "hourly_df.head()\n"
   ]
  },
  {
   "cell_type": "code",
   "execution_count": 291,
   "id": "9858086a",
   "metadata": {},
   "outputs": [],
   "source": [
    "hourly_df['Global_active_power'].fillna(method='ffill', inplace=True)"
   ]
  },
  {
   "cell_type": "code",
   "execution_count": 292,
   "id": "b4a5690e",
   "metadata": {},
   "outputs": [
    {
     "data": {
      "text/plain": [
       "Global_active_power    0\n",
       "dtype: int64"
      ]
     },
     "execution_count": 292,
     "metadata": {},
     "output_type": "execute_result"
    }
   ],
   "source": [
    "hourly_df.isnull().sum()"
   ]
  },
  {
   "cell_type": "code",
   "execution_count": 293,
   "id": "051aef5d",
   "metadata": {},
   "outputs": [
    {
     "data": {
      "text/plain": [
       "(array([323969, 324336, 333096, 341880, 350640, 358919], dtype=int64),\n",
       " [Text(323969, 0, ''),\n",
       "  Text(324336, 0, 'Jan\\n2007'),\n",
       "  Text(333096, 0, 'Jan\\n2008'),\n",
       "  Text(341880, 0, 'Jan\\n2009'),\n",
       "  Text(350640, 0, 'Jan\\n2010'),\n",
       "  Text(358919, 0, '')])"
      ]
     },
     "execution_count": 293,
     "metadata": {},
     "output_type": "execute_result"
    },
    {
     "data": {
      "image/png": "[encoded data removed]",
      "text/plain": [
       "<Figure size 1500x600 with 1 Axes>"
      ]
     },
     "metadata": {},
     "output_type": "display_data"
    }
   ],
   "source": [
    "hourly_df['Global_active_power'].plot(figsize=(15, 6))\n",
    "plt.title('Global Active Power Over Time')\n",
    "plt.xlabel('Datetime')\n",
    "plt.ylabel('Global Active Power (kW)')\n",
    "plt.xticks(rotation=45) "
   ]
  },
  {
   "cell_type": "code",
   "execution_count": 295,
   "id": "d021c78b",
   "metadata": {},
   "outputs": [
    {
     "data": {
      "text/html": [
       "<div>\n",
       "<style scoped>\n",
       "    .dataframe tbody tr th:only-of-type {\n",
       "        vertical-align: middle;\n",
       "    }\n",
       "\n",
       "    .dataframe tbody tr th {\n",
       "        vertical-align: top;\n",
       "    }\n",
       "\n",
       "    .dataframe thead th {\n",
       "        text-align: right;\n",
       "    }\n",
       "</style>\n",
       "<table border=\"1\" class=\"dataframe\">\n",
       "  <thead>\n",
       "    <tr style=\"text-align: right;\">\n",
       "      <th></th>\n",
       "      <th>Datetime</th>\n",
       "      <th>Global_active_power</th>\n",
       "    </tr>\n",
       "  </thead>\n",
       "  <tbody>\n",
       "    <tr>\n",
       "      <th>0</th>\n",
       "      <td>2006-12-16 17:00:00</td>\n",
       "      <td>4.222889</td>\n",
       "    </tr>\n",
       "    <tr>\n",
       "      <th>1</th>\n",
       "      <td>2006-12-16 18:00:00</td>\n",
       "      <td>3.632200</td>\n",
       "    </tr>\n",
       "    <tr>\n",
       "      <th>2</th>\n",
       "      <td>2006-12-16 19:00:00</td>\n",
       "      <td>3.400233</td>\n",
       "    </tr>\n",
       "    <tr>\n",
       "      <th>3</th>\n",
       "      <td>2006-12-16 20:00:00</td>\n",
       "      <td>3.268567</td>\n",
       "    </tr>\n",
       "    <tr>\n",
       "      <th>4</th>\n",
       "      <td>2006-12-16 21:00:00</td>\n",
       "      <td>3.056467</td>\n",
       "    </tr>\n",
       "  </tbody>\n",
       "</table>\n",
       "</div>"
      ],
      "text/plain": [
       "             Datetime  Global_active_power\n",
       "0 2006-12-16 17:00:00             4.222889\n",
       "1 2006-12-16 18:00:00             3.632200\n",
       "2 2006-12-16 19:00:00             3.400233\n",
       "3 2006-12-16 20:00:00             3.268567\n",
       "4 2006-12-16 21:00:00             3.056467"
      ]
     },
     "execution_count": 295,
     "metadata": {},
     "output_type": "execute_result"
    }
   ],
   "source": [
    "hourly_df.reset_index(inplace=True)\n",
    "\n",
    "hourly_df.head()"
   ]
  },
  {
   "cell_type": "code",
   "execution_count": 296,
   "id": "109adbb8",
   "metadata": {},
   "outputs": [
    {
     "name": "stdout",
     "output_type": "stream",
     "text": [
      "<class 'pandas.core.frame.DataFrame'>\n",
      "RangeIndex: 34951 entries, 0 to 34950\n",
      "Data columns (total 2 columns):\n",
      " #   Column               Non-Null Count  Dtype         \n",
      "---  ------               --------------  -----         \n",
      " 0   Datetime             34951 non-null  datetime64[ns]\n",
      " 1   Global_active_power  34951 non-null  float64       \n",
      "dtypes: datetime64[ns](1), float64(1)\n",
      "memory usage: 546.2 KB\n"
     ]
    }
   ],
   "source": [
    "hourly_df.info()"
   ]
  },
  {
   "cell_type": "code",
   "execution_count": 403,
   "id": "2bd456b5",
   "metadata": {},
   "outputs": [],
   "source": [
    "hourly_df_simplified = hourly_df[['Global_active_power']].copy()"
   ]
  },
  {
   "cell_type": "code",
   "execution_count": 404,
   "id": "eff2d698",
   "metadata": {},
   "outputs": [
    {
     "data": {
      "text/html": [
       "<div>\n",
       "<style scoped>\n",
       "    .dataframe tbody tr th:only-of-type {\n",
       "        vertical-align: middle;\n",
       "    }\n",
       "\n",
       "    .dataframe tbody tr th {\n",
       "        vertical-align: top;\n",
       "    }\n",
       "\n",
       "    .dataframe thead th {\n",
       "        text-align: right;\n",
       "    }\n",
       "</style>\n",
       "<table border=\"1\" class=\"dataframe\">\n",
       "  <thead>\n",
       "    <tr style=\"text-align: right;\">\n",
       "      <th></th>\n",
       "      <th>Global_active_power</th>\n",
       "    </tr>\n",
       "  </thead>\n",
       "  <tbody>\n",
       "    <tr>\n",
       "      <th>0</th>\n",
       "      <td>4.222889</td>\n",
       "    </tr>\n",
       "    <tr>\n",
       "      <th>1</th>\n",
       "      <td>3.632200</td>\n",
       "    </tr>\n",
       "    <tr>\n",
       "      <th>2</th>\n",
       "      <td>3.400233</td>\n",
       "    </tr>\n",
       "    <tr>\n",
       "      <th>3</th>\n",
       "      <td>3.268567</td>\n",
       "    </tr>\n",
       "    <tr>\n",
       "      <th>4</th>\n",
       "      <td>3.056467</td>\n",
       "    </tr>\n",
       "  </tbody>\n",
       "</table>\n",
       "</div>"
      ],
      "text/plain": [
       "   Global_active_power\n",
       "0             4.222889\n",
       "1             3.632200\n",
       "2             3.400233\n",
       "3             3.268567\n",
       "4             3.056467"
      ]
     },
     "execution_count": 404,
     "metadata": {},
     "output_type": "execute_result"
    }
   ],
   "source": [
    "hourly_df_simplified.head()"
   ]
  },
  {
   "cell_type": "code",
   "execution_count": 405,
   "id": "a6f49ec1",
   "metadata": {},
   "outputs": [
    {
     "data": {
      "text/plain": [
       "Global_active_power    0\n",
       "dtype: int64"
      ]
     },
     "execution_count": 405,
     "metadata": {},
     "output_type": "execute_result"
    }
   ],
   "source": [
    "hourly_df_simplified.isnull().sum()"
   ]
  },
  {
   "cell_type": "code",
   "execution_count": 406,
   "id": "cc170a95",
   "metadata": {},
   "outputs": [
    {
     "data": {
      "text/plain": [
       "pandas.core.frame.DataFrame"
      ]
     },
     "execution_count": 406,
     "metadata": {},
     "output_type": "execute_result"
    }
   ],
   "source": [
    "type(hourly_df_simplified)"
   ]
  },
  {
   "cell_type": "code",
   "execution_count": 407,
   "id": "533cf45a",
   "metadata": {},
   "outputs": [
    {
     "data": {
      "text/plain": [
       "array([[4.22288889],\n",
       "       [3.6322    ],\n",
       "       [3.40023333],\n",
       "       ...,\n",
       "       [1.1149    ],\n",
       "       [0.32053333],\n",
       "       [0.63986667]])"
      ]
     },
     "execution_count": 407,
     "metadata": {},
     "output_type": "execute_result"
    }
   ],
   "source": [
    "hourly_array = hourly_df_simplified.values\n",
    "hourly_array"
   ]
  },
  {
   "cell_type": "code",
   "execution_count": 408,
   "id": "5867af9c",
   "metadata": {},
   "outputs": [
    {
     "data": {
      "text/plain": [
       "numpy.ndarray"
      ]
     },
     "execution_count": 408,
     "metadata": {},
     "output_type": "execute_result"
    }
   ],
   "source": [
    "type(hourly_array)"
   ]
  },
  {
   "cell_type": "code",
   "execution_count": 409,
   "id": "aa07369a",
   "metadata": {},
   "outputs": [],
   "source": [
    "hourly_data_len = math.ceil(len(hourly_array) * .8)"
   ]
  },
  {
   "cell_type": "code",
   "execution_count": 410,
   "id": "3499fe13",
   "metadata": {},
   "outputs": [
    {
     "data": {
      "text/plain": [
       "27961"
      ]
     },
     "execution_count": 410,
     "metadata": {},
     "output_type": "execute_result"
    }
   ],
   "source": [
    "hourly_data_len"
   ]
  },
  {
   "cell_type": "code",
   "execution_count": 411,
   "id": "72e80234",
   "metadata": {},
   "outputs": [],
   "source": [
    "scaler = MinMaxScaler(feature_range=(0,1))\n",
    "hourly_array = scaler.fit_transform(hourly_array)"
   ]
  },
  {
   "cell_type": "code",
   "execution_count": 412,
   "id": "5a07f6b8",
   "metadata": {},
   "outputs": [
    {
     "data": {
      "text/plain": [
       "array([[0.63681623],\n",
       "       [0.54504495],\n",
       "       [0.50900588],\n",
       "       ...,\n",
       "       [0.15394933],\n",
       "       [0.03053403],\n",
       "       [0.08014666]])"
      ]
     },
     "execution_count": 412,
     "metadata": {},
     "output_type": "execute_result"
    }
   ],
   "source": [
    "hourly_array"
   ]
  },
  {
   "cell_type": "code",
   "execution_count": 413,
   "id": "e38c72a4",
   "metadata": {},
   "outputs": [],
   "source": [
    "train_data = hourly_array[0:training_data_len , :]"
   ]
  },
  {
   "cell_type": "code",
   "execution_count": 414,
   "id": "f7d89c01",
   "metadata": {},
   "outputs": [],
   "source": [
    "x_train =[]\n",
    "y_train =[]"
   ]
  },
  {
   "cell_type": "markdown",
   "id": "9c8359e3",
   "metadata": {},
   "source": [
    "I will be taking a series of 24 data points (the last 24 hours, in this case) and use that sequence to predict the next data point. "
   ]
  },
  {
   "cell_type": "code",
   "execution_count": 415,
   "id": "42e8d225",
   "metadata": {},
   "outputs": [],
   "source": [
    "for i in range(24, len(train_data)):\n",
    "    x_train.append(train_data[i-24:i,0])\n",
    "    y_train.append(train_data[i,0])"
   ]
  },
  {
   "cell_type": "markdown",
   "id": "af233c3c",
   "metadata": {},
   "source": [
    "Make sure that I work with arrays "
   ]
  },
  {
   "cell_type": "code",
   "execution_count": 416,
   "id": "56c02b17",
   "metadata": {},
   "outputs": [],
   "source": [
    "x_train, y_train = np.array(x_train), np.array(y_train)"
   ]
  },
  {
   "cell_type": "markdown",
   "id": "56ec3a09",
   "metadata": {},
   "source": [
    "The input value should  be in 3 dimensions - NN input values should be in 3dimensional format"
   ]
  },
  {
   "cell_type": "code",
   "execution_count": 417,
   "id": "c75c50f7",
   "metadata": {},
   "outputs": [
    {
     "data": {
      "text/plain": [
       "(34927, 24, 1)"
      ]
     },
     "execution_count": 417,
     "metadata": {},
     "output_type": "execute_result"
    }
   ],
   "source": [
    "x_train =np.reshape(x_train,(x_train.shape[0], x_train.shape[1],1))\n",
    "x_train.shape"
   ]
  },
  {
   "cell_type": "code",
   "execution_count": 344,
   "id": "01cfc0ba",
   "metadata": {},
   "outputs": [],
   "source": [
    "model = Sequential()\n",
    "model.add(LSTM(20, return_sequences = True, input_shape = (x_train.shape[1], 1)))\n",
    "model.add(LSTM(20, return_sequences = False))\n",
    "model.add(Dense(5))\n",
    "model.add(Dense(1))"
   ]
  },
  {
   "cell_type": "code",
   "execution_count": 345,
   "id": "ed35995f",
   "metadata": {},
   "outputs": [],
   "source": [
    "model.compile(loss='mse', optimizer='adam', metrics=['accuracy'])"
   ]
  },
  {
   "cell_type": "code",
   "execution_count": 346,
   "id": "dade5d3c",
   "metadata": {},
   "outputs": [
    {
     "name": "stdout",
     "output_type": "stream",
     "text": [
      "Train on 34927 samples\n",
      "Epoch 1/10\n",
      "34927/34927 [==============================] - 6s 171us/sample - loss: 0.0134 - acc: 2.8631e-05\n",
      "Epoch 2/10\n",
      "34927/34927 [==============================] - 9s 254us/sample - loss: 0.0094 - acc: 2.8631e-05\n",
      "Epoch 3/10\n",
      "34927/34927 [==============================] - 8s 236us/sample - loss: 0.0091 - acc: 5.7262e-05\n",
      "Epoch 4/10\n",
      "34927/34927 [==============================] - 9s 268us/sample - loss: 0.0089 - acc: 2.8631e-05\n",
      "Epoch 5/10\n",
      "34927/34927 [==============================] - 9s 245us/sample - loss: 0.0088 - acc: 5.7262e-05\n",
      "Epoch 6/10\n",
      "34927/34927 [==============================] - 11s 311us/sample - loss: 0.0087 - acc: 2.8631e-05\n",
      "Epoch 7/10\n",
      "34927/34927 [==============================] - 8s 243us/sample - loss: 0.0086 - acc: 2.8631e-05\n",
      "Epoch 8/10\n",
      "34927/34927 [==============================] - 9s 264us/sample - loss: 0.0086 - acc: 5.7262e-05\n",
      "Epoch 9/10\n",
      "34927/34927 [==============================] - 9s 260us/sample - loss: 0.0085 - acc: 2.8631e-05\n",
      "Epoch 10/10\n",
      "34927/34927 [==============================] - 9s 250us/sample - loss: 0.0085 - acc: 2.8631e-05\n"
     ]
    },
    {
     "data": {
      "text/plain": [
       "<keras.src.callbacks.History at 0x1f8f6d42490>"
      ]
     },
     "execution_count": 346,
     "metadata": {},
     "output_type": "execute_result"
    }
   ],
   "source": [
    "model.fit(x_train, y_train, batch_size = 70, epochs = 10)"
   ]
  },
  {
   "cell_type": "code",
   "execution_count": 375,
   "id": "ef1ebc0d",
   "metadata": {},
   "outputs": [],
   "source": [
    "test_data = hourly_array[hourly_data_len -24: , :]"
   ]
  },
  {
   "cell_type": "code",
   "execution_count": 376,
   "id": "3ccf7596",
   "metadata": {},
   "outputs": [],
   "source": [
    "x_test = []\n",
    "y_test = hourly_array[hourly_data_len:, :]"
   ]
  },
  {
   "cell_type": "code",
   "execution_count": 377,
   "id": "6d1f6b08",
   "metadata": {},
   "outputs": [],
   "source": [
    "for i in range(24,len(test_data)):\n",
    "    x_test.append(test_data[i-24:i, 0])"
   ]
  },
  {
   "cell_type": "code",
   "execution_count": 378,
   "id": "d6dc1143",
   "metadata": {},
   "outputs": [
    {
     "data": {
      "text/plain": [
       "array([[0.08412914, 0.12144736, 0.38717011, ..., 0.04562497, 0.03392095,\n",
       "        0.03469777],\n",
       "       [0.12144736, 0.38717011, 0.23659216, ..., 0.03392095, 0.03469777,\n",
       "        0.15177425],\n",
       "       [0.38717011, 0.23659216, 0.05140966, ..., 0.03469777, 0.15177425,\n",
       "        0.39878092],\n",
       "       ...,\n",
       "       [0.18403799, 0.18104466, 0.08835502, ..., 0.33509757, 0.35235841,\n",
       "        0.25313834],\n",
       "       [0.18104466, 0.08835502, 0.11760989, ..., 0.35235841, 0.25313834,\n",
       "        0.15394933],\n",
       "       [0.08835502, 0.11760989, 0.02225836, ..., 0.25313834, 0.15394933,\n",
       "        0.03053403]])"
      ]
     },
     "execution_count": 378,
     "metadata": {},
     "output_type": "execute_result"
    }
   ],
   "source": [
    "x_test = np.array(x_test)\n",
    "x_test"
   ]
  },
  {
   "cell_type": "code",
   "execution_count": 379,
   "id": "073c321f",
   "metadata": {},
   "outputs": [],
   "source": [
    "x_test = np.reshape(x_test,(x_test.shape[0], x_test.shape[1],1))"
   ]
  },
  {
   "cell_type": "code",
   "execution_count": 383,
   "id": "0f52a075",
   "metadata": {},
   "outputs": [],
   "source": [
    "predictions = model.predict(x_test)"
   ]
  },
  {
   "cell_type": "code",
   "execution_count": 384,
   "id": "c26310db",
   "metadata": {},
   "outputs": [],
   "source": [
    "predictions = scaler.inverse_transform(predictions)"
   ]
  },
  {
   "cell_type": "code",
   "execution_count": 385,
   "id": "2eb92d6b",
   "metadata": {},
   "outputs": [],
   "source": [
    "rmse = np.sqrt(mean_squared_error(scaler.inverse_transform(y_test),predictions))\n",
    "r2_value = r2_score(scaler.inverse_transform(y_test),predictions)"
   ]
  },
  {
   "cell_type": "code",
   "execution_count": 386,
   "id": "f482b993",
   "metadata": {},
   "outputs": [
    {
     "name": "stdout",
     "output_type": "stream",
     "text": [
      "Root Mean Square Error:  0.5114672258456638\n",
      "R^2 Value:  0.5124080692996772\n"
     ]
    }
   ],
   "source": [
    "print(\"Root Mean Square Error: \", rmse)\n",
    "print(\"R^2 Value: \", r2_value)"
   ]
  },
  {
   "cell_type": "code",
   "execution_count": 431,
   "id": "43117a2e",
   "metadata": {},
   "outputs": [],
   "source": [
    "train = hourly_df[:hourly_data_len]\n",
    "valid = hourly_df[hourly_data_len:]\n",
    "valid['Predictions'] = predictions"
   ]
  },
  {
   "cell_type": "code",
   "execution_count": 429,
   "id": "d7f588ec",
   "metadata": {},
   "outputs": [
    {
     "data": {
      "image/png": "[encoded data removed]",
      "text/plain": [
       "<Figure size 1600x800 with 1 Axes>"
      ]
     },
     "metadata": {},
     "output_type": "display_data"
    }
   ],
   "source": [
    "plt.figure(figsize=(16,8))\n",
    "plt.title('LSTM Deep Learning Neural Networks Model')\n",
    "plt.xlabel('Datetime',fontsize=18)\n",
    "plt.ylabel('Active Power', fontsize=18)\n",
    "plt.plot(train['Global_active_power'])\n",
    "plt.plot(valid[['Global_active_power', 'Predictions']])\n",
    "plt.legend(['Train', 'Valid', 'Predictions'], loc = 'lower right')\n",
    "plt.show()"
   ]
  },
  {
   "cell_type": "code",
   "execution_count": 340,
   "id": "d256c86f",
   "metadata": {},
   "outputs": [],
   "source": [
    "model = Sequential()\n",
    "model.add(LSTM(10, return_sequences = True, input_shape = (x_train.shape[1], 1)))\n",
    "model.add(LSTM(10, return_sequences = False))\n",
    "model.add(Dense(5))\n",
    "model.add(Dense(1))"
   ]
  },
  {
   "cell_type": "code",
   "execution_count": 341,
   "id": "d79b0464",
   "metadata": {},
   "outputs": [],
   "source": [
    "model.compile(loss='mse', optimizer='adam', metrics=['accuracy'])"
   ]
  },
  {
   "cell_type": "code",
   "execution_count": 342,
   "id": "adf79652",
   "metadata": {},
   "outputs": [
    {
     "name": "stdout",
     "output_type": "stream",
     "text": [
      "Train on 34927 samples\n",
      "Epoch 1/10\n",
      "34927/34927 [==============================] - 8s 221us/sample - loss: 0.0137 - acc: 2.8631e-05\n",
      "Epoch 2/10\n",
      "34927/34927 [==============================] - 8s 237us/sample - loss: 0.0095 - acc: 2.8631e-05\n",
      "Epoch 3/10\n",
      "34927/34927 [==============================] - 7s 207us/sample - loss: 0.0093 - acc: 2.8631e-05\n",
      "Epoch 4/10\n",
      "34927/34927 [==============================] - 8s 234us/sample - loss: 0.0091 - acc: 2.8631e-05\n",
      "Epoch 5/10\n",
      "34927/34927 [==============================] - 8s 217us/sample - loss: 0.0088 - acc: 5.7262e-05\n",
      "Epoch 6/10\n",
      "34927/34927 [==============================] - 8s 241us/sample - loss: 0.0086 - acc: 2.8631e-05\n",
      "Epoch 7/10\n",
      "34927/34927 [==============================] - 8s 228us/sample - loss: 0.0086 - acc: 5.7262e-05\n",
      "Epoch 8/10\n",
      "34927/34927 [==============================] - 9s 254us/sample - loss: 0.0085 - acc: 5.7262e-05\n",
      "Epoch 9/10\n",
      "34927/34927 [==============================] - 9s 244us/sample - loss: 0.0085 - acc: 2.8631e-05\n",
      "Epoch 10/10\n",
      "34927/34927 [==============================] - 10s 276us/sample - loss: 0.0085 - acc: 5.7262e-05\n"
     ]
    },
    {
     "data": {
      "text/plain": [
       "<keras.src.callbacks.History at 0x1f8f652c910>"
      ]
     },
     "execution_count": 342,
     "metadata": {},
     "output_type": "execute_result"
    }
   ],
   "source": [
    "model.fit(x_train, y_train, batch_size = 70, epochs = 10)"
   ]
  },
  {
   "cell_type": "markdown",
   "id": "3d8fc6f5",
   "metadata": {},
   "source": [
    "## Simple model"
   ]
  },
  {
   "cell_type": "markdown",
   "id": "1eff20ec",
   "metadata": {},
   "source": [
    "Using a single LSTM layer"
   ]
  },
  {
   "cell_type": "code",
   "execution_count": 421,
   "id": "3a36f71b",
   "metadata": {},
   "outputs": [],
   "source": [
    "model = Sequential()\n",
    "model.add(LSTM(units=50, input_shape=(x_train.shape[1], 1)))  # 'units' can be smaller too\n",
    "model.add(Dense(1))  # One output neuron for regression"
   ]
  },
  {
   "cell_type": "code",
   "execution_count": 422,
   "id": "010695d3",
   "metadata": {},
   "outputs": [],
   "source": [
    "model.compile(loss='mse', optimizer='adam', metrics=['accuracy'])"
   ]
  },
  {
   "cell_type": "code",
   "execution_count": 423,
   "id": "b21db3a6",
   "metadata": {},
   "outputs": [
    {
     "name": "stdout",
     "output_type": "stream",
     "text": [
      "Train on 34927 samples\n",
      "Epoch 1/10\n",
      "34927/34927 [==============================] - 8s 228us/sample - loss: 0.0119 - acc: 2.8631e-05\n",
      "Epoch 2/10\n",
      "34927/34927 [==============================] - 6s 161us/sample - loss: 0.0093 - acc: 2.8631e-05\n",
      "Epoch 3/10\n",
      "34927/34927 [==============================] - 6s 181us/sample - loss: 0.0091 - acc: 2.8631e-05\n",
      "Epoch 4/10\n",
      "34927/34927 [==============================] - 7s 203us/sample - loss: 0.0087 - acc: 2.8631e-05\n",
      "Epoch 5/10\n",
      "34927/34927 [==============================] - 5s 149us/sample - loss: 0.0086 - acc: 5.7262e-05\n",
      "Epoch 6/10\n",
      "34927/34927 [==============================] - 9s 260us/sample - loss: 0.0085 - acc: 2.8631e-05\n",
      "Epoch 7/10\n",
      "34927/34927 [==============================] - 6s 184us/sample - loss: 0.0085 - acc: 5.7262e-05\n",
      "Epoch 8/10\n",
      "34927/34927 [==============================] - 9s 270us/sample - loss: 0.0085 - acc: 5.7262e-05\n",
      "Epoch 9/10\n",
      "34927/34927 [==============================] - 7s 203us/sample - loss: 0.0084 - acc: 5.7262e-05\n",
      "Epoch 10/10\n",
      "34927/34927 [==============================] - 8s 220us/sample - loss: 0.0084 - acc: 5.7262e-05\n"
     ]
    },
    {
     "data": {
      "text/plain": [
       "<keras.src.callbacks.History at 0x1f8f6ac8250>"
      ]
     },
     "execution_count": 423,
     "metadata": {},
     "output_type": "execute_result"
    }
   ],
   "source": [
    "model.fit(x_train, y_train, batch_size = 70, epochs = 10)"
   ]
  },
  {
   "cell_type": "markdown",
   "id": "ece4f9aa",
   "metadata": {},
   "source": [
    "## From here is the minute breakdown"
   ]
  },
  {
   "cell_type": "markdown",
   "id": "5e22c1aa",
   "metadata": {},
   "source": [
    "As focus will be only on forecasting the overall energy consumption, I will simplify the dataframe and will use only the relevant columns."
   ]
  },
  {
   "cell_type": "code",
   "execution_count": 71,
   "id": "0ed914ec",
   "metadata": {},
   "outputs": [],
   "source": [
    "# Assuming 'consumption_df' is your original DataFrame with datetime as the index\n",
    "# And you want to keep only the 'Global_active_power' column along with the datetime index\n",
    "\n",
    "consumption_df_simplified = df_simplified[['Global_active_power']].copy()\n",
    "\n",
    "# 'new_df' now contains only the 'Global_active_power' column with the datetime index preserved\n"
   ]
  },
  {
   "cell_type": "code",
   "execution_count": 72,
   "id": "cb7122d5",
   "metadata": {},
   "outputs": [
    {
     "data": {
      "text/html": [
       "<div>\n",
       "<style scoped>\n",
       "    .dataframe tbody tr th:only-of-type {\n",
       "        vertical-align: middle;\n",
       "    }\n",
       "\n",
       "    .dataframe tbody tr th {\n",
       "        vertical-align: top;\n",
       "    }\n",
       "\n",
       "    .dataframe thead th {\n",
       "        text-align: right;\n",
       "    }\n",
       "</style>\n",
       "<table border=\"1\" class=\"dataframe\">\n",
       "  <thead>\n",
       "    <tr style=\"text-align: right;\">\n",
       "      <th></th>\n",
       "      <th>Global_active_power</th>\n",
       "    </tr>\n",
       "  </thead>\n",
       "  <tbody>\n",
       "    <tr>\n",
       "      <th>0</th>\n",
       "      <td>4.216</td>\n",
       "    </tr>\n",
       "    <tr>\n",
       "      <th>1</th>\n",
       "      <td>5.360</td>\n",
       "    </tr>\n",
       "    <tr>\n",
       "      <th>2</th>\n",
       "      <td>5.374</td>\n",
       "    </tr>\n",
       "    <tr>\n",
       "      <th>3</th>\n",
       "      <td>5.388</td>\n",
       "    </tr>\n",
       "    <tr>\n",
       "      <th>4</th>\n",
       "      <td>3.666</td>\n",
       "    </tr>\n",
       "  </tbody>\n",
       "</table>\n",
       "</div>"
      ],
      "text/plain": [
       "   Global_active_power\n",
       "0                4.216\n",
       "1                5.360\n",
       "2                5.374\n",
       "3                5.388\n",
       "4                3.666"
      ]
     },
     "execution_count": 72,
     "metadata": {},
     "output_type": "execute_result"
    }
   ],
   "source": [
    "consumption_df_simplified.head()"
   ]
  },
  {
   "cell_type": "markdown",
   "id": "3ece9ca0",
   "metadata": {},
   "source": [
    "Checking the type of the data as for the analyses I will need the data to be an array. "
   ]
  },
  {
   "cell_type": "code",
   "execution_count": 73,
   "id": "dbdce6d8",
   "metadata": {},
   "outputs": [
    {
     "data": {
      "text/plain": [
       "pandas.core.frame.DataFrame"
      ]
     },
     "execution_count": 73,
     "metadata": {},
     "output_type": "execute_result"
    }
   ],
   "source": [
    "type(consumption_df_simplified)"
   ]
  },
  {
   "cell_type": "markdown",
   "id": "e9389e20",
   "metadata": {},
   "source": [
    "Converting to array"
   ]
  },
  {
   "cell_type": "code",
   "execution_count": 77,
   "id": "e3b634cd",
   "metadata": {},
   "outputs": [],
   "source": [
    "dataset_array = consumption_df_simplified.values"
   ]
  },
  {
   "cell_type": "code",
   "execution_count": 78,
   "id": "62e29ff5",
   "metadata": {},
   "outputs": [
    {
     "data": {
      "text/plain": [
       "numpy.ndarray"
      ]
     },
     "execution_count": 78,
     "metadata": {},
     "output_type": "execute_result"
    }
   ],
   "source": [
    "type(dataset_array)"
   ]
  },
  {
   "cell_type": "markdown",
   "id": "7d8ca6a6",
   "metadata": {},
   "source": [
    "As data is sequential we can not use the train test split as it will split it randomly. I will take the first 80% of the data - in order to do that I will use the len function."
   ]
  },
  {
   "cell_type": "code",
   "execution_count": 82,
   "id": "5d2ac135",
   "metadata": {},
   "outputs": [],
   "source": [
    "training_data_len = math.ceil(len(dataset_array) * .8)"
   ]
  },
  {
   "cell_type": "code",
   "execution_count": 83,
   "id": "d6081e35",
   "metadata": {},
   "outputs": [
    {
     "data": {
      "text/plain": [
       "1660208"
      ]
     },
     "execution_count": 83,
     "metadata": {},
     "output_type": "execute_result"
    }
   ],
   "source": [
    "training_data_len "
   ]
  },
  {
   "cell_type": "markdown",
   "id": "bd1690ac",
   "metadata": {},
   "source": [
    "Scaling the data using the minmaxscaler. Neural Networks require the data to be in the same range as they are very sensitive, hence scaling is required."
   ]
  },
  {
   "cell_type": "code",
   "execution_count": 86,
   "id": "7ec1ef0f",
   "metadata": {},
   "outputs": [],
   "source": [
    "scaler = MinMaxScaler(feature_range=(0,1))\n",
    "dataset_array = scaler.fit_transform(dataset_array)"
   ]
  },
  {
   "cell_type": "code",
   "execution_count": 87,
   "id": "5475f008",
   "metadata": {},
   "outputs": [
    {
     "data": {
      "text/plain": [
       "array([[0.37479631],\n",
       "       [0.47836321],\n",
       "       [0.47963064],\n",
       "       ...,\n",
       "       [0.0780373 ],\n",
       "       [0.07767518],\n",
       "       [0.07749412]])"
      ]
     },
     "execution_count": 87,
     "metadata": {},
     "output_type": "execute_result"
    }
   ],
   "source": [
    "dataset_array"
   ]
  },
  {
   "cell_type": "code",
   "execution_count": 88,
   "id": "b0c32f0e",
   "metadata": {},
   "outputs": [],
   "source": [
    "train_data = dataset_array[0:training_data_len , :]"
   ]
  },
  {
   "cell_type": "code",
   "execution_count": 89,
   "id": "25f7df3f",
   "metadata": {},
   "outputs": [],
   "source": [
    "x_train =[]\n",
    "y_train =[]"
   ]
  },
  {
   "cell_type": "code",
   "execution_count": 90,
   "id": "343acca4",
   "metadata": {},
   "outputs": [],
   "source": [
    "for i in range(30, len(train_data)):\n",
    "    x_train.append(train_data[i-30:i,0])\n",
    "    y_train.append(train_data[i,0])"
   ]
  },
  {
   "cell_type": "code",
   "execution_count": 91,
   "id": "6c40a31b",
   "metadata": {},
   "outputs": [],
   "source": [
    "x_train, y_train = np.array(x_train), np.array(y_train)"
   ]
  },
  {
   "cell_type": "code",
   "execution_count": 92,
   "id": "ea50975d",
   "metadata": {},
   "outputs": [
    {
     "data": {
      "text/plain": [
       "(1660178, 30, 1)"
      ]
     },
     "execution_count": 92,
     "metadata": {},
     "output_type": "execute_result"
    }
   ],
   "source": [
    "x_train =np.reshape(x_train,(x_train.shape[0], x_train.shape[1],1))\n",
    "x_train.shape"
   ]
  },
  {
   "cell_type": "code",
   "execution_count": 99,
   "id": "e2b3d7f0",
   "metadata": {},
   "outputs": [],
   "source": [
    "model = Sequential()\n",
    "model.add(LSTM(10, return_sequences = True, input_shape = (x_train.shape[1], 1)))\n",
    "model.add(LSTM(10, return_sequences = False))\n",
    "model.add(Dense(5))\n",
    "model.add(Dense(1))"
   ]
  },
  {
   "cell_type": "code",
   "execution_count": 102,
   "id": "45c19d64",
   "metadata": {},
   "outputs": [],
   "source": [
    "#model.compile(optimizer='adam', loss = 'mean_squared_error')\n",
    "model.compile(loss='binary_crossentropy', optimizer='adam', metrics=['accuracy'])"
   ]
  },
  {
   "cell_type": "code",
   "execution_count": 105,
   "id": "589b17d4",
   "metadata": {},
   "outputs": [
    {
     "name": "stdout",
     "output_type": "stream",
     "text": [
      "Train on 1660178 samples\n",
      "Epoch 1/10\n",
      "1660178/1660178 [==============================] - 48s 29us/sample - loss: 0.2627 - acc: 6.0235e-06\n",
      "Epoch 2/10\n",
      "1660178/1660178 [==============================] - 50s 30us/sample - loss: 0.2630 - acc: 6.0235e-06\n",
      "Epoch 3/10\n",
      "1660178/1660178 [==============================] - 49s 29us/sample - loss: 0.2627 - acc: 6.0235e-06\n",
      "Epoch 4/10\n",
      "1660178/1660178 [==============================] - 48s 29us/sample - loss: 0.2627 - acc: 6.0235e-06\n",
      "Epoch 5/10\n",
      "1660178/1660178 [==============================] - 48s 29us/sample - loss: 0.2627 - acc: 6.0235e-06\n",
      "Epoch 6/10\n",
      "1660178/1660178 [==============================] - 49s 29us/sample - loss: 0.2627 - acc: 6.0235e-06\n",
      "Epoch 7/10\n",
      "1660178/1660178 [==============================] - 3664s 2ms/sample - loss: 0.2627 - acc: 6.0235e-06\n",
      "Epoch 8/10\n",
      "1660178/1660178 [==============================] - 42s 25us/sample - loss: 0.2628 - acc: 6.0235e-06\n",
      "Epoch 9/10\n",
      "1660178/1660178 [==============================] - 1841s 1ms/sample - loss: 0.2627 - acc: 6.0235e-06\n",
      "Epoch 10/10\n",
      "1660178/1660178 [==============================] - 48s 29us/sample - loss: 0.2627 - acc: 6.0235e-06\n"
     ]
    },
    {
     "data": {
      "text/plain": [
       "<keras.src.callbacks.History at 0x1f8b51eba50>"
      ]
     },
     "execution_count": 105,
     "metadata": {},
     "output_type": "execute_result"
    }
   ],
   "source": [
    "model.fit(x_train, y_train, batch_size = 3000, epochs = 10)"
   ]
  },
  {
   "cell_type": "code",
   "execution_count": 48,
   "id": "a3632963",
   "metadata": {},
   "outputs": [
    {
     "ename": "KeyError",
     "evalue": "\"['Datetime'] not in index\"",
     "output_type": "error",
     "traceback": [
      "\u001b[1;31m---------------------------------------------------------------------------\u001b[0m",
      "\u001b[1;31mKeyError\u001b[0m                                  Traceback (most recent call last)",
      "Cell \u001b[1;32mIn[48], line 1\u001b[0m\n\u001b[1;32m----> 1\u001b[0m consumption_df_simplified \u001b[38;5;241m=\u001b[39m consumption_df[[\u001b[38;5;124m'\u001b[39m\u001b[38;5;124mDatetime\u001b[39m\u001b[38;5;124m'\u001b[39m, \u001b[38;5;124m'\u001b[39m\u001b[38;5;124mGlobal_active_power\u001b[39m\u001b[38;5;124m'\u001b[39m]]\u001b[38;5;241m.\u001b[39mcopy()\n\u001b[0;32m      3\u001b[0m \u001b[38;5;66;03m# Set 'Datetime' as the index\u001b[39;00m\n\u001b[0;32m      4\u001b[0m \u001b[38;5;66;03m# consumption_df_simplified.set_index('Datetime', inplace=True)\u001b[39;00m\n\u001b[0;32m      5\u001b[0m \n\u001b[0;32m      6\u001b[0m \u001b[38;5;66;03m# Handle missing values. Here, we'll use forward fill as an example\u001b[39;00m\n\u001b[0;32m      7\u001b[0m consumption_df_simplified[\u001b[38;5;124m'\u001b[39m\u001b[38;5;124mGlobal_active_power\u001b[39m\u001b[38;5;124m'\u001b[39m]\u001b[38;5;241m.\u001b[39mfillna(method\u001b[38;5;241m=\u001b[39m\u001b[38;5;124m'\u001b[39m\u001b[38;5;124mffill\u001b[39m\u001b[38;5;124m'\u001b[39m, inplace\u001b[38;5;241m=\u001b[39m\u001b[38;5;28;01mTrue\u001b[39;00m)\n",
      "File \u001b[1;32m~\\anaconda3\\Lib\\site-packages\\pandas\\core\\frame.py:3813\u001b[0m, in \u001b[0;36mDataFrame.__getitem__\u001b[1;34m(self, key)\u001b[0m\n\u001b[0;32m   3811\u001b[0m     \u001b[38;5;28;01mif\u001b[39;00m is_iterator(key):\n\u001b[0;32m   3812\u001b[0m         key \u001b[38;5;241m=\u001b[39m \u001b[38;5;28mlist\u001b[39m(key)\n\u001b[1;32m-> 3813\u001b[0m     indexer \u001b[38;5;241m=\u001b[39m \u001b[38;5;28mself\u001b[39m\u001b[38;5;241m.\u001b[39mcolumns\u001b[38;5;241m.\u001b[39m_get_indexer_strict(key, \u001b[38;5;124m\"\u001b[39m\u001b[38;5;124mcolumns\u001b[39m\u001b[38;5;124m\"\u001b[39m)[\u001b[38;5;241m1\u001b[39m]\n\u001b[0;32m   3815\u001b[0m \u001b[38;5;66;03m# take() does not accept boolean indexers\u001b[39;00m\n\u001b[0;32m   3816\u001b[0m \u001b[38;5;28;01mif\u001b[39;00m \u001b[38;5;28mgetattr\u001b[39m(indexer, \u001b[38;5;124m\"\u001b[39m\u001b[38;5;124mdtype\u001b[39m\u001b[38;5;124m\"\u001b[39m, \u001b[38;5;28;01mNone\u001b[39;00m) \u001b[38;5;241m==\u001b[39m \u001b[38;5;28mbool\u001b[39m:\n",
      "File \u001b[1;32m~\\anaconda3\\Lib\\site-packages\\pandas\\core\\indexes\\base.py:6070\u001b[0m, in \u001b[0;36mIndex._get_indexer_strict\u001b[1;34m(self, key, axis_name)\u001b[0m\n\u001b[0;32m   6067\u001b[0m \u001b[38;5;28;01melse\u001b[39;00m:\n\u001b[0;32m   6068\u001b[0m     keyarr, indexer, new_indexer \u001b[38;5;241m=\u001b[39m \u001b[38;5;28mself\u001b[39m\u001b[38;5;241m.\u001b[39m_reindex_non_unique(keyarr)\n\u001b[1;32m-> 6070\u001b[0m \u001b[38;5;28mself\u001b[39m\u001b[38;5;241m.\u001b[39m_raise_if_missing(keyarr, indexer, axis_name)\n\u001b[0;32m   6072\u001b[0m keyarr \u001b[38;5;241m=\u001b[39m \u001b[38;5;28mself\u001b[39m\u001b[38;5;241m.\u001b[39mtake(indexer)\n\u001b[0;32m   6073\u001b[0m \u001b[38;5;28;01mif\u001b[39;00m \u001b[38;5;28misinstance\u001b[39m(key, Index):\n\u001b[0;32m   6074\u001b[0m     \u001b[38;5;66;03m# GH 42790 - Preserve name from an Index\u001b[39;00m\n",
      "File \u001b[1;32m~\\anaconda3\\Lib\\site-packages\\pandas\\core\\indexes\\base.py:6133\u001b[0m, in \u001b[0;36mIndex._raise_if_missing\u001b[1;34m(self, key, indexer, axis_name)\u001b[0m\n\u001b[0;32m   6130\u001b[0m     \u001b[38;5;28;01mraise\u001b[39;00m \u001b[38;5;167;01mKeyError\u001b[39;00m(\u001b[38;5;124mf\u001b[39m\u001b[38;5;124m\"\u001b[39m\u001b[38;5;124mNone of [\u001b[39m\u001b[38;5;132;01m{\u001b[39;00mkey\u001b[38;5;132;01m}\u001b[39;00m\u001b[38;5;124m] are in the [\u001b[39m\u001b[38;5;132;01m{\u001b[39;00maxis_name\u001b[38;5;132;01m}\u001b[39;00m\u001b[38;5;124m]\u001b[39m\u001b[38;5;124m\"\u001b[39m)\n\u001b[0;32m   6132\u001b[0m not_found \u001b[38;5;241m=\u001b[39m \u001b[38;5;28mlist\u001b[39m(ensure_index(key)[missing_mask\u001b[38;5;241m.\u001b[39mnonzero()[\u001b[38;5;241m0\u001b[39m]]\u001b[38;5;241m.\u001b[39munique())\n\u001b[1;32m-> 6133\u001b[0m \u001b[38;5;28;01mraise\u001b[39;00m \u001b[38;5;167;01mKeyError\u001b[39;00m(\u001b[38;5;124mf\u001b[39m\u001b[38;5;124m\"\u001b[39m\u001b[38;5;132;01m{\u001b[39;00mnot_found\u001b[38;5;132;01m}\u001b[39;00m\u001b[38;5;124m not in index\u001b[39m\u001b[38;5;124m\"\u001b[39m)\n",
      "\u001b[1;31mKeyError\u001b[0m: \"['Datetime'] not in index\""
     ]
    }
   ],
   "source": [
    "consumption_df_simplified = consumption_df[['Datetime', 'Global_active_power']].copy()\n",
    "\n",
    "# Set 'Datetime' as the index\n",
    "# consumption_df_simplified.set_index('Datetime', inplace=True)\n",
    "\n",
    "# Handle missing values. Here, we'll use forward fill as an example\n",
    "consumption_df_simplified['Global_active_power'].fillna(method='ffill', inplace=True)\n",
    "\n",
    "# Check the DataFrame\n",
    "consumption_df_simplified.head()"
   ]
  },
  {
   "cell_type": "code",
   "execution_count": 9,
   "id": "80cf74ac",
   "metadata": {},
   "outputs": [
    {
     "data": {
      "text/plain": [
       "<function matplotlib.pyplot.show(close=None, block=None)>"
      ]
     },
     "execution_count": 9,
     "metadata": {},
     "output_type": "execute_result"
    },
    {
     "data": {
      "image/png": "[encoded data removed]",
      "text/plain": [
       "<Figure size 1600x800 with 1 Axes>"
      ]
     },
     "metadata": {},
     "output_type": "display_data"
    }
   ],
   "source": [
    "plt.figure(figsize=(16,8))\n",
    "plt.title('Acitve Power')\n",
    "plt.plot(consumption_df['Global_active_power'])\n",
    "plt.show"
   ]
  }
 ],
 "metadata": {
  "kernelspec": {
   "display_name": "Python 3 (ipykernel)",
   "language": "python",
   "name": "python3"
  },
  "language_info": {
   "codemirror_mode": {
    "name": "ipython",
    "version": 3
   },
   "file_extension": ".py",
   "mimetype": "text/x-python",
   "name": "python",
   "nbconvert_exporter": "python",
   "pygments_lexer": "ipython3",
   "version": "3.11.4"
  }
 },
 "nbformat": 4,
 "nbformat_minor": 5
}
