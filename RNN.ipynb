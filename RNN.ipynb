{
 "cells": [
  {
   "cell_type": "markdown",
   "id": "f40f6a68",
   "metadata": {},
   "source": [
    "This notebook is designed for time series forecasting using deep learning. It leverages a range of Python libraries each serving a specific purpose in the process:\n",
    "\n",
    "math and numpy: Provide mathematical functions and operations for numerical data manipulation, essential for data preprocessing and transformation.  \n",
    "pandas: Used for efficient data manipulation and analysis, particularly useful for handling time series data and preparing it for modeling.  \n",
    "matplotlib.pyplot and FuncFormatter from matplotlib.ticker: Enable data visualization, allowing for the plotting of time series data and model performance metrics, with customizable formatting for better interpretation.  \n",
    "Sequential, LSTM, Dense, and Dropout from tensorflow.keras: Core components of the deep learning model architecture, supporting the construction and training of LSTM networks for forecasting.  \n",
    "Together, these libraries form the foundation for building, training, and evaluating a deep learning model aimed at forecasting future values in a time series dataset."
   ]
  },
  {
   "cell_type": "markdown",
   "id": "6f081afb",
   "metadata": {},
   "source": [
    "To run this notebook, ensure the following libraries are installed. You can install them using pip with the commands provided below:\n",
    "\n",
    "#### Core libraries\n",
    "!pip install numpy  \n",
    "!pip install pandas  \n",
    "!pip install matplotlib  \n",
    "\n",
    "#### Machine learning and deep learning libraries\n",
    "!pip install scikit-learn  \n",
    "!pip install tensorflow"
   ]
  },
  {
   "cell_type": "code",
   "execution_count": 266,
   "id": "79199771",
   "metadata": {},
   "outputs": [],
   "source": [
    "import math\n",
    "import numpy as np\n",
    "import pandas as pd\n",
    "from datetime import datetime\n",
    "import time\n",
    "import matplotlib.pyplot as plt\n",
    "from matplotlib.ticker import FuncFormatter\n",
    "from sklearn.preprocessing import MinMaxScaler\n",
    "from sklearn.metrics import mean_squared_error, r2_score\n",
    "from tensorflow.keras.models import Sequential\n",
    "from tensorflow.keras.layers import LSTM, Dense, Dropout\n",
    "from tensorflow.keras.layers import Dropout\n",
    "import warnings\n",
    "warnings.filterwarnings('ignore')"
   ]
  },
  {
   "cell_type": "markdown",
   "id": "c128fef6",
   "metadata": {},
   "source": [
    "I will be importing the preprocessed where I preprocessed using pyspark. I will be loading the two separate files in two pandas dataframes and then combining both datasets. Pandas was chosen as per the functionalities for the interpolation of missing values that I encountered in the dataset. In order to keep the sequence and the interval of data entries in the dataset."
   ]
  },
  {
   "cell_type": "code",
   "execution_count": 73,
   "id": "30f5f0e3",
   "metadata": {},
   "outputs": [],
   "source": [
    "df1 = pd.read_csv('preprocessed1.csv', sep=',')"
   ]
  },
  {
   "cell_type": "code",
   "execution_count": 74,
   "id": "7a6d3207",
   "metadata": {},
   "outputs": [
    {
     "data": {
      "text/html": [
       "<div>\n",
       "<style scoped>\n",
       "    .dataframe tbody tr th:only-of-type {\n",
       "        vertical-align: middle;\n",
       "    }\n",
       "\n",
       "    .dataframe tbody tr th {\n",
       "        vertical-align: top;\n",
       "    }\n",
       "\n",
       "    .dataframe thead th {\n",
       "        text-align: right;\n",
       "    }\n",
       "</style>\n",
       "<table border=\"1\" class=\"dataframe\">\n",
       "  <thead>\n",
       "    <tr style=\"text-align: right;\">\n",
       "      <th></th>\n",
       "      <th>Date</th>\n",
       "      <th>Time</th>\n",
       "      <th>Global_active_power</th>\n",
       "      <th>Year</th>\n",
       "      <th>Month</th>\n",
       "      <th>Day</th>\n",
       "    </tr>\n",
       "  </thead>\n",
       "  <tbody>\n",
       "    <tr>\n",
       "      <th>0</th>\n",
       "      <td>2006-12-16</td>\n",
       "      <td>17:24:00</td>\n",
       "      <td>4.216</td>\n",
       "      <td>2006</td>\n",
       "      <td>12</td>\n",
       "      <td>16</td>\n",
       "    </tr>\n",
       "    <tr>\n",
       "      <th>1</th>\n",
       "      <td>2006-12-16</td>\n",
       "      <td>17:25:00</td>\n",
       "      <td>5.360</td>\n",
       "      <td>2006</td>\n",
       "      <td>12</td>\n",
       "      <td>16</td>\n",
       "    </tr>\n",
       "    <tr>\n",
       "      <th>2</th>\n",
       "      <td>2006-12-16</td>\n",
       "      <td>17:26:00</td>\n",
       "      <td>5.374</td>\n",
       "      <td>2006</td>\n",
       "      <td>12</td>\n",
       "      <td>16</td>\n",
       "    </tr>\n",
       "    <tr>\n",
       "      <th>3</th>\n",
       "      <td>2006-12-16</td>\n",
       "      <td>17:27:00</td>\n",
       "      <td>5.388</td>\n",
       "      <td>2006</td>\n",
       "      <td>12</td>\n",
       "      <td>16</td>\n",
       "    </tr>\n",
       "    <tr>\n",
       "      <th>4</th>\n",
       "      <td>2006-12-16</td>\n",
       "      <td>17:28:00</td>\n",
       "      <td>3.666</td>\n",
       "      <td>2006</td>\n",
       "      <td>12</td>\n",
       "      <td>16</td>\n",
       "    </tr>\n",
       "  </tbody>\n",
       "</table>\n",
       "</div>"
      ],
      "text/plain": [
       "         Date      Time  Global_active_power  Year  Month  Day\n",
       "0  2006-12-16  17:24:00                4.216  2006     12   16\n",
       "1  2006-12-16  17:25:00                5.360  2006     12   16\n",
       "2  2006-12-16  17:26:00                5.374  2006     12   16\n",
       "3  2006-12-16  17:27:00                5.388  2006     12   16\n",
       "4  2006-12-16  17:28:00                3.666  2006     12   16"
      ]
     },
     "execution_count": 74,
     "metadata": {},
     "output_type": "execute_result"
    }
   ],
   "source": [
    "df1.head()"
   ]
  },
  {
   "cell_type": "code",
   "execution_count": 75,
   "id": "03f15815",
   "metadata": {},
   "outputs": [],
   "source": [
    "df2 = pd.read_csv('preprocessed2.csv', sep = ',')"
   ]
  },
  {
   "cell_type": "code",
   "execution_count": 76,
   "id": "e1f21f34",
   "metadata": {},
   "outputs": [
    {
     "data": {
      "text/html": [
       "<div>\n",
       "<style scoped>\n",
       "    .dataframe tbody tr th:only-of-type {\n",
       "        vertical-align: middle;\n",
       "    }\n",
       "\n",
       "    .dataframe tbody tr th {\n",
       "        vertical-align: top;\n",
       "    }\n",
       "\n",
       "    .dataframe thead th {\n",
       "        text-align: right;\n",
       "    }\n",
       "</style>\n",
       "<table border=\"1\" class=\"dataframe\">\n",
       "  <thead>\n",
       "    <tr style=\"text-align: right;\">\n",
       "      <th></th>\n",
       "      <th>Date</th>\n",
       "      <th>Time</th>\n",
       "      <th>Global_active_power</th>\n",
       "      <th>Year</th>\n",
       "      <th>Month</th>\n",
       "      <th>Day</th>\n",
       "    </tr>\n",
       "  </thead>\n",
       "  <tbody>\n",
       "    <tr>\n",
       "      <th>0</th>\n",
       "      <td>2008-12-25</td>\n",
       "      <td>12:50:00</td>\n",
       "      <td>0.468</td>\n",
       "      <td>2008</td>\n",
       "      <td>12</td>\n",
       "      <td>25</td>\n",
       "    </tr>\n",
       "    <tr>\n",
       "      <th>1</th>\n",
       "      <td>2008-12-25</td>\n",
       "      <td>12:51:00</td>\n",
       "      <td>0.480</td>\n",
       "      <td>2008</td>\n",
       "      <td>12</td>\n",
       "      <td>25</td>\n",
       "    </tr>\n",
       "    <tr>\n",
       "      <th>2</th>\n",
       "      <td>2008-12-25</td>\n",
       "      <td>12:52:00</td>\n",
       "      <td>0.466</td>\n",
       "      <td>2008</td>\n",
       "      <td>12</td>\n",
       "      <td>25</td>\n",
       "    </tr>\n",
       "    <tr>\n",
       "      <th>3</th>\n",
       "      <td>2008-12-25</td>\n",
       "      <td>12:53:00</td>\n",
       "      <td>0.470</td>\n",
       "      <td>2008</td>\n",
       "      <td>12</td>\n",
       "      <td>25</td>\n",
       "    </tr>\n",
       "    <tr>\n",
       "      <th>4</th>\n",
       "      <td>2008-12-25</td>\n",
       "      <td>12:54:00</td>\n",
       "      <td>0.464</td>\n",
       "      <td>2008</td>\n",
       "      <td>12</td>\n",
       "      <td>25</td>\n",
       "    </tr>\n",
       "  </tbody>\n",
       "</table>\n",
       "</div>"
      ],
      "text/plain": [
       "         Date      Time  Global_active_power  Year  Month  Day\n",
       "0  2008-12-25  12:50:00                0.468  2008     12   25\n",
       "1  2008-12-25  12:51:00                0.480  2008     12   25\n",
       "2  2008-12-25  12:52:00                0.466  2008     12   25\n",
       "3  2008-12-25  12:53:00                0.470  2008     12   25\n",
       "4  2008-12-25  12:54:00                0.464  2008     12   25"
      ]
     },
     "execution_count": 76,
     "metadata": {},
     "output_type": "execute_result"
    }
   ],
   "source": [
    "df2.head()"
   ]
  },
  {
   "cell_type": "code",
   "execution_count": 77,
   "id": "85ae780e",
   "metadata": {},
   "outputs": [],
   "source": [
    "consumption_df = pd.concat([df1, df2], ignore_index=True)"
   ]
  },
  {
   "cell_type": "code",
   "execution_count": 78,
   "id": "60345896",
   "metadata": {
    "scrolled": true
   },
   "outputs": [
    {
     "data": {
      "text/html": [
       "<div>\n",
       "<style scoped>\n",
       "    .dataframe tbody tr th:only-of-type {\n",
       "        vertical-align: middle;\n",
       "    }\n",
       "\n",
       "    .dataframe tbody tr th {\n",
       "        vertical-align: top;\n",
       "    }\n",
       "\n",
       "    .dataframe thead th {\n",
       "        text-align: right;\n",
       "    }\n",
       "</style>\n",
       "<table border=\"1\" class=\"dataframe\">\n",
       "  <thead>\n",
       "    <tr style=\"text-align: right;\">\n",
       "      <th></th>\n",
       "      <th>Date</th>\n",
       "      <th>Time</th>\n",
       "      <th>Global_active_power</th>\n",
       "      <th>Year</th>\n",
       "      <th>Month</th>\n",
       "      <th>Day</th>\n",
       "    </tr>\n",
       "  </thead>\n",
       "  <tbody>\n",
       "    <tr>\n",
       "      <th>0</th>\n",
       "      <td>2006-12-16</td>\n",
       "      <td>17:24:00</td>\n",
       "      <td>4.216</td>\n",
       "      <td>2006</td>\n",
       "      <td>12</td>\n",
       "      <td>16</td>\n",
       "    </tr>\n",
       "    <tr>\n",
       "      <th>1</th>\n",
       "      <td>2006-12-16</td>\n",
       "      <td>17:25:00</td>\n",
       "      <td>5.360</td>\n",
       "      <td>2006</td>\n",
       "      <td>12</td>\n",
       "      <td>16</td>\n",
       "    </tr>\n",
       "    <tr>\n",
       "      <th>2</th>\n",
       "      <td>2006-12-16</td>\n",
       "      <td>17:26:00</td>\n",
       "      <td>5.374</td>\n",
       "      <td>2006</td>\n",
       "      <td>12</td>\n",
       "      <td>16</td>\n",
       "    </tr>\n",
       "    <tr>\n",
       "      <th>3</th>\n",
       "      <td>2006-12-16</td>\n",
       "      <td>17:27:00</td>\n",
       "      <td>5.388</td>\n",
       "      <td>2006</td>\n",
       "      <td>12</td>\n",
       "      <td>16</td>\n",
       "    </tr>\n",
       "    <tr>\n",
       "      <th>4</th>\n",
       "      <td>2006-12-16</td>\n",
       "      <td>17:28:00</td>\n",
       "      <td>3.666</td>\n",
       "      <td>2006</td>\n",
       "      <td>12</td>\n",
       "      <td>16</td>\n",
       "    </tr>\n",
       "  </tbody>\n",
       "</table>\n",
       "</div>"
      ],
      "text/plain": [
       "         Date      Time  Global_active_power  Year  Month  Day\n",
       "0  2006-12-16  17:24:00                4.216  2006     12   16\n",
       "1  2006-12-16  17:25:00                5.360  2006     12   16\n",
       "2  2006-12-16  17:26:00                5.374  2006     12   16\n",
       "3  2006-12-16  17:27:00                5.388  2006     12   16\n",
       "4  2006-12-16  17:28:00                3.666  2006     12   16"
      ]
     },
     "execution_count": 78,
     "metadata": {},
     "output_type": "execute_result"
    }
   ],
   "source": [
    "consumption_df.head()"
   ]
  },
  {
   "cell_type": "code",
   "execution_count": 79,
   "id": "23e3ceaa",
   "metadata": {},
   "outputs": [
    {
     "name": "stdout",
     "output_type": "stream",
     "text": [
      "<class 'pandas.core.frame.DataFrame'>\n",
      "RangeIndex: 2075259 entries, 0 to 2075258\n",
      "Data columns (total 6 columns):\n",
      " #   Column               Dtype  \n",
      "---  ------               -----  \n",
      " 0   Date                 object \n",
      " 1   Time                 object \n",
      " 2   Global_active_power  float64\n",
      " 3   Year                 int64  \n",
      " 4   Month                int64  \n",
      " 5   Day                  int64  \n",
      "dtypes: float64(1), int64(3), object(2)\n",
      "memory usage: 95.0+ MB\n"
     ]
    }
   ],
   "source": [
    "consumption_df.info()"
   ]
  },
  {
   "cell_type": "markdown",
   "id": "1af93882",
   "metadata": {},
   "source": [
    "In order to work with time-series I will need to convert the date and time to timestamp. In order to do so, first I need to combine them and then convert. "
   ]
  },
  {
   "cell_type": "code",
   "execution_count": 80,
   "id": "37f66b8b",
   "metadata": {},
   "outputs": [
    {
     "data": {
      "text/html": [
       "<div>\n",
       "<style scoped>\n",
       "    .dataframe tbody tr th:only-of-type {\n",
       "        vertical-align: middle;\n",
       "    }\n",
       "\n",
       "    .dataframe tbody tr th {\n",
       "        vertical-align: top;\n",
       "    }\n",
       "\n",
       "    .dataframe thead th {\n",
       "        text-align: right;\n",
       "    }\n",
       "</style>\n",
       "<table border=\"1\" class=\"dataframe\">\n",
       "  <thead>\n",
       "    <tr style=\"text-align: right;\">\n",
       "      <th></th>\n",
       "      <th>Global_active_power</th>\n",
       "      <th>Year</th>\n",
       "      <th>Month</th>\n",
       "      <th>Day</th>\n",
       "      <th>Datetime</th>\n",
       "    </tr>\n",
       "  </thead>\n",
       "  <tbody>\n",
       "    <tr>\n",
       "      <th>0</th>\n",
       "      <td>4.216</td>\n",
       "      <td>2006</td>\n",
       "      <td>12</td>\n",
       "      <td>16</td>\n",
       "      <td>2006-12-16 17:24:00</td>\n",
       "    </tr>\n",
       "    <tr>\n",
       "      <th>1</th>\n",
       "      <td>5.360</td>\n",
       "      <td>2006</td>\n",
       "      <td>12</td>\n",
       "      <td>16</td>\n",
       "      <td>2006-12-16 17:25:00</td>\n",
       "    </tr>\n",
       "    <tr>\n",
       "      <th>2</th>\n",
       "      <td>5.374</td>\n",
       "      <td>2006</td>\n",
       "      <td>12</td>\n",
       "      <td>16</td>\n",
       "      <td>2006-12-16 17:26:00</td>\n",
       "    </tr>\n",
       "    <tr>\n",
       "      <th>3</th>\n",
       "      <td>5.388</td>\n",
       "      <td>2006</td>\n",
       "      <td>12</td>\n",
       "      <td>16</td>\n",
       "      <td>2006-12-16 17:27:00</td>\n",
       "    </tr>\n",
       "    <tr>\n",
       "      <th>4</th>\n",
       "      <td>3.666</td>\n",
       "      <td>2006</td>\n",
       "      <td>12</td>\n",
       "      <td>16</td>\n",
       "      <td>2006-12-16 17:28:00</td>\n",
       "    </tr>\n",
       "  </tbody>\n",
       "</table>\n",
       "</div>"
      ],
      "text/plain": [
       "   Global_active_power  Year  Month  Day            Datetime\n",
       "0                4.216  2006     12   16 2006-12-16 17:24:00\n",
       "1                5.360  2006     12   16 2006-12-16 17:25:00\n",
       "2                5.374  2006     12   16 2006-12-16 17:26:00\n",
       "3                5.388  2006     12   16 2006-12-16 17:27:00\n",
       "4                3.666  2006     12   16 2006-12-16 17:28:00"
      ]
     },
     "execution_count": 80,
     "metadata": {},
     "output_type": "execute_result"
    }
   ],
   "source": [
    "consumption_df['Datetime'] = pd.to_datetime(consumption_df['Date'] + ' ' + consumption_df['Time'])\n",
    "\n",
    "consumption_df = consumption_df.drop(columns=['Date', 'Time'])\n",
    "\n",
    "consumption_df.head()"
   ]
  },
  {
   "cell_type": "markdown",
   "id": "c1b75dfb",
   "metadata": {},
   "source": [
    "After that I need to confirm that this was converted successfully. Everything else I will keep as it is - integer and float"
   ]
  },
  {
   "cell_type": "code",
   "execution_count": 81,
   "id": "4f85c499",
   "metadata": {},
   "outputs": [
    {
     "name": "stdout",
     "output_type": "stream",
     "text": [
      "<class 'pandas.core.frame.DataFrame'>\n",
      "RangeIndex: 2075259 entries, 0 to 2075258\n",
      "Data columns (total 5 columns):\n",
      " #   Column               Dtype         \n",
      "---  ------               -----         \n",
      " 0   Global_active_power  float64       \n",
      " 1   Year                 int64         \n",
      " 2   Month                int64         \n",
      " 3   Day                  int64         \n",
      " 4   Datetime             datetime64[ns]\n",
      "dtypes: datetime64[ns](1), float64(1), int64(3)\n",
      "memory usage: 79.2 MB\n"
     ]
    }
   ],
   "source": [
    "consumption_df.info()"
   ]
  },
  {
   "cell_type": "code",
   "execution_count": 83,
   "id": "4064c0ee",
   "metadata": {},
   "outputs": [
    {
     "name": "stdout",
     "output_type": "stream",
     "text": [
      "Number of duplicate rows in the DataFrame: 0\n",
      "Duplicate rows:\n",
      "Empty DataFrame\n",
      "Columns: [Global_active_power, Year, Month, Day, Datetime]\n",
      "Index: []\n"
     ]
    }
   ],
   "source": [
    "duplicates_count = consumption_df.duplicated(keep=False).sum()\n",
    "print(f\"Number of duplicate rows in the DataFrame: {duplicates_count}\")\n",
    "\n",
    "duplicates = consumption_df[consumption_df.duplicated(keep=False)]\n",
    "print(\"Duplicate rows:\")\n",
    "print(duplicates)"
   ]
  },
  {
   "cell_type": "code",
   "execution_count": 84,
   "id": "e15b6f70",
   "metadata": {},
   "outputs": [
    {
     "data": {
      "text/plain": [
       "Global_active_power    25979\n",
       "Year                       0\n",
       "Month                      0\n",
       "Day                        0\n",
       "Datetime                   0\n",
       "dtype: int64"
      ]
     },
     "execution_count": 84,
     "metadata": {},
     "output_type": "execute_result"
    }
   ],
   "source": [
    "consumption_df.isnull().sum()"
   ]
  },
  {
   "cell_type": "markdown",
   "id": "cdface53",
   "metadata": {},
   "source": [
    "Now I will have to handle the missing values I encountered before. As keeping the sequence and the same interval of data entries is crucial, I will interpolate those \n",
    "\n",
    "https://pandas.pydata.org/pandas-docs/stable/reference/api/pandas.DataFrame.interpolate.html"
   ]
  },
  {
   "cell_type": "code",
   "execution_count": 85,
   "id": "6ef19d29",
   "metadata": {},
   "outputs": [
    {
     "name": "stdout",
     "output_type": "stream",
     "text": [
      "       Global_active_power  Year  Month  Day            Datetime\n",
      "6839                   NaN  2006     12   21 2006-12-21 11:23:00\n",
      "6840                   NaN  2006     12   21 2006-12-21 11:24:00\n",
      "19724                  NaN  2006     12   30 2006-12-30 10:08:00\n",
      "19725                  NaN  2006     12   30 2006-12-30 10:09:00\n",
      "41832                  NaN  2007      1   14 2007-01-14 18:36:00\n"
     ]
    }
   ],
   "source": [
    "missing_data_rows = consumption_df[consumption_df['Global_active_power'].isnull()]\n",
    "\n",
    "print(missing_data_rows.head())"
   ]
  },
  {
   "cell_type": "code",
   "execution_count": 86,
   "id": "8a1ce06e",
   "metadata": {},
   "outputs": [
    {
     "data": {
      "text/html": [
       "<div>\n",
       "<style scoped>\n",
       "    .dataframe tbody tr th:only-of-type {\n",
       "        vertical-align: middle;\n",
       "    }\n",
       "\n",
       "    .dataframe tbody tr th {\n",
       "        vertical-align: top;\n",
       "    }\n",
       "\n",
       "    .dataframe thead th {\n",
       "        text-align: right;\n",
       "    }\n",
       "</style>\n",
       "<table border=\"1\" class=\"dataframe\">\n",
       "  <thead>\n",
       "    <tr style=\"text-align: right;\">\n",
       "      <th></th>\n",
       "      <th>Global_active_power</th>\n",
       "      <th>Year</th>\n",
       "      <th>Month</th>\n",
       "      <th>Day</th>\n",
       "    </tr>\n",
       "    <tr>\n",
       "      <th>Datetime</th>\n",
       "      <th></th>\n",
       "      <th></th>\n",
       "      <th></th>\n",
       "      <th></th>\n",
       "    </tr>\n",
       "  </thead>\n",
       "  <tbody>\n",
       "    <tr>\n",
       "      <th>2006-12-16 17:24:00</th>\n",
       "      <td>4.216</td>\n",
       "      <td>2006</td>\n",
       "      <td>12</td>\n",
       "      <td>16</td>\n",
       "    </tr>\n",
       "    <tr>\n",
       "      <th>2006-12-16 17:25:00</th>\n",
       "      <td>5.360</td>\n",
       "      <td>2006</td>\n",
       "      <td>12</td>\n",
       "      <td>16</td>\n",
       "    </tr>\n",
       "    <tr>\n",
       "      <th>2006-12-16 17:26:00</th>\n",
       "      <td>5.374</td>\n",
       "      <td>2006</td>\n",
       "      <td>12</td>\n",
       "      <td>16</td>\n",
       "    </tr>\n",
       "    <tr>\n",
       "      <th>2006-12-16 17:27:00</th>\n",
       "      <td>5.388</td>\n",
       "      <td>2006</td>\n",
       "      <td>12</td>\n",
       "      <td>16</td>\n",
       "    </tr>\n",
       "    <tr>\n",
       "      <th>2006-12-16 17:28:00</th>\n",
       "      <td>3.666</td>\n",
       "      <td>2006</td>\n",
       "      <td>12</td>\n",
       "      <td>16</td>\n",
       "    </tr>\n",
       "  </tbody>\n",
       "</table>\n",
       "</div>"
      ],
      "text/plain": [
       "                     Global_active_power  Year  Month  Day\n",
       "Datetime                                                  \n",
       "2006-12-16 17:24:00                4.216  2006     12   16\n",
       "2006-12-16 17:25:00                5.360  2006     12   16\n",
       "2006-12-16 17:26:00                5.374  2006     12   16\n",
       "2006-12-16 17:27:00                5.388  2006     12   16\n",
       "2006-12-16 17:28:00                3.666  2006     12   16"
      ]
     },
     "execution_count": 86,
     "metadata": {},
     "output_type": "execute_result"
    }
   ],
   "source": [
    "# df_simplified = consumption_df[['Datetime', 'Global_active_power']].copy()\n",
    "\n",
    "consumption_df.set_index('Datetime', inplace=True)\n",
    "\n",
    "consumption_df['Global_active_power'].fillna(method='ffill', inplace=True)\n",
    "\n",
    "consumption_df.head()"
   ]
  },
  {
   "cell_type": "code",
   "execution_count": 87,
   "id": "ac089b59",
   "metadata": {},
   "outputs": [
    {
     "name": "stdout",
     "output_type": "stream",
     "text": [
      "DatetimeIndex(['2006-12-16 17:24:00', '2006-12-16 17:25:00',\n",
      "               '2006-12-16 17:26:00', '2006-12-16 17:27:00',\n",
      "               '2006-12-16 17:28:00', '2006-12-16 17:29:00',\n",
      "               '2006-12-16 17:30:00', '2006-12-16 17:31:00',\n",
      "               '2006-12-16 17:32:00', '2006-12-16 17:33:00',\n",
      "               ...\n",
      "               '2010-11-26 20:53:00', '2010-11-26 20:54:00',\n",
      "               '2010-11-26 20:55:00', '2010-11-26 20:56:00',\n",
      "               '2010-11-26 20:57:00', '2010-11-26 20:58:00',\n",
      "               '2010-11-26 20:59:00', '2010-11-26 21:00:00',\n",
      "               '2010-11-26 21:01:00', '2010-11-26 21:02:00'],\n",
      "              dtype='datetime64[ns]', name='Datetime', length=2075259, freq=None)\n"
     ]
    }
   ],
   "source": [
    "print(consumption_df.index)"
   ]
  },
  {
   "cell_type": "code",
   "execution_count": 88,
   "id": "4ff4a90f",
   "metadata": {},
   "outputs": [
    {
     "data": {
      "text/plain": [
       "Global_active_power    0\n",
       "Year                   0\n",
       "Month                  0\n",
       "Day                    0\n",
       "dtype: int64"
      ]
     },
     "execution_count": 88,
     "metadata": {},
     "output_type": "execute_result"
    }
   ],
   "source": [
    "consumption_df.isnull().sum()"
   ]
  },
  {
   "cell_type": "markdown",
   "id": "a6b3f1d3",
   "metadata": {},
   "source": [
    "As the dataset has entry values for each minute, I will aggregate this on an hourly level (taking the mean value) as I am intrested in the hourly consumption. "
   ]
  },
  {
   "cell_type": "code",
   "execution_count": 89,
   "id": "bb51cc5f",
   "metadata": {},
   "outputs": [
    {
     "data": {
      "text/html": [
       "<div>\n",
       "<style scoped>\n",
       "    .dataframe tbody tr th:only-of-type {\n",
       "        vertical-align: middle;\n",
       "    }\n",
       "\n",
       "    .dataframe tbody tr th {\n",
       "        vertical-align: top;\n",
       "    }\n",
       "\n",
       "    .dataframe thead th {\n",
       "        text-align: right;\n",
       "    }\n",
       "</style>\n",
       "<table border=\"1\" class=\"dataframe\">\n",
       "  <thead>\n",
       "    <tr style=\"text-align: right;\">\n",
       "      <th></th>\n",
       "      <th>Global_active_power</th>\n",
       "      <th>Year</th>\n",
       "      <th>Month</th>\n",
       "      <th>Day</th>\n",
       "    </tr>\n",
       "    <tr>\n",
       "      <th>Datetime</th>\n",
       "      <th></th>\n",
       "      <th></th>\n",
       "      <th></th>\n",
       "      <th></th>\n",
       "    </tr>\n",
       "  </thead>\n",
       "  <tbody>\n",
       "    <tr>\n",
       "      <th>2006-12-16 17:24:00</th>\n",
       "      <td>4.216</td>\n",
       "      <td>2006</td>\n",
       "      <td>12</td>\n",
       "      <td>16</td>\n",
       "    </tr>\n",
       "    <tr>\n",
       "      <th>2006-12-16 17:25:00</th>\n",
       "      <td>5.360</td>\n",
       "      <td>2006</td>\n",
       "      <td>12</td>\n",
       "      <td>16</td>\n",
       "    </tr>\n",
       "    <tr>\n",
       "      <th>2006-12-16 17:26:00</th>\n",
       "      <td>5.374</td>\n",
       "      <td>2006</td>\n",
       "      <td>12</td>\n",
       "      <td>16</td>\n",
       "    </tr>\n",
       "    <tr>\n",
       "      <th>2006-12-16 17:27:00</th>\n",
       "      <td>5.388</td>\n",
       "      <td>2006</td>\n",
       "      <td>12</td>\n",
       "      <td>16</td>\n",
       "    </tr>\n",
       "    <tr>\n",
       "      <th>2006-12-16 17:28:00</th>\n",
       "      <td>3.666</td>\n",
       "      <td>2006</td>\n",
       "      <td>12</td>\n",
       "      <td>16</td>\n",
       "    </tr>\n",
       "  </tbody>\n",
       "</table>\n",
       "</div>"
      ],
      "text/plain": [
       "                     Global_active_power  Year  Month  Day\n",
       "Datetime                                                  \n",
       "2006-12-16 17:24:00                4.216  2006     12   16\n",
       "2006-12-16 17:25:00                5.360  2006     12   16\n",
       "2006-12-16 17:26:00                5.374  2006     12   16\n",
       "2006-12-16 17:27:00                5.388  2006     12   16\n",
       "2006-12-16 17:28:00                3.666  2006     12   16"
      ]
     },
     "execution_count": 89,
     "metadata": {},
     "output_type": "execute_result"
    }
   ],
   "source": [
    "consumption_df.head()"
   ]
  },
  {
   "cell_type": "markdown",
   "id": "a45657aa",
   "metadata": {},
   "source": [
    "Creating a new dataframe showing the early consumption, which will be used for visualizations and understanding of the yearly trend. "
   ]
  },
  {
   "cell_type": "code",
   "execution_count": 90,
   "id": "b4acf731",
   "metadata": {},
   "outputs": [],
   "source": [
    "yearly_consumption = consumption_df.groupby('Year')['Global_active_power'].sum().reset_index()\n",
    "yearly_consumption.columns = ['Year', 'Total_Global_active_power']"
   ]
  },
  {
   "cell_type": "code",
   "execution_count": 91,
   "id": "818507e7",
   "metadata": {},
   "outputs": [
    {
     "name": "stdout",
     "output_type": "stream",
     "text": [
      "<class 'pandas.core.frame.DataFrame'>\n",
      "RangeIndex: 5 entries, 0 to 4\n",
      "Data columns (total 2 columns):\n",
      " #   Column                     Non-Null Count  Dtype  \n",
      "---  ------                     --------------  -----  \n",
      " 0   Year                       5 non-null      int64  \n",
      " 1   Total_Global_active_power  5 non-null      float64\n",
      "dtypes: float64(1), int64(1)\n",
      "memory usage: 212.0 bytes\n"
     ]
    }
   ],
   "source": [
    "yearly_consumption.info()"
   ]
  },
  {
   "cell_type": "code",
   "execution_count": 92,
   "id": "87fa8f06",
   "metadata": {},
   "outputs": [
    {
     "data": {
      "text/plain": [
       "array([2006, 2007, 2008, 2009, 2010], dtype=int64)"
      ]
     },
     "execution_count": 92,
     "metadata": {},
     "output_type": "execute_result"
    }
   ],
   "source": [
    "unique_years = yearly_consumption['Year'].unique()\n",
    "unique_years"
   ]
  },
  {
   "cell_type": "code",
   "execution_count": 93,
   "id": "bc412053",
   "metadata": {},
   "outputs": [],
   "source": [
    "def format_year(x, pos):\n",
    "    return '%d' % x\n",
    "\n",
    "#I had to format the year values as even though they are of type integer, in the visualization they were coming as float values (2006.0)"
   ]
  },
  {
   "cell_type": "code",
   "execution_count": 94,
   "id": "fe8feccc",
   "metadata": {},
   "outputs": [
    {
     "data": {
      "image/png": "[encoded data removed]",
      "text/plain": [
       "<Figure size 1000x600 with 1 Axes>"
      ]
     },
     "metadata": {},
     "output_type": "display_data"
    }
   ],
   "source": [
    "import matplotlib.pyplot as plt\n",
    "from matplotlib.ticker import MaxNLocator\n",
    "\n",
    "plt.figure(figsize=(10, 6))\n",
    "plt.plot(yearly_consumption['Year'], yearly_consumption['Total_Global_active_power'], marker='o', linestyle='-')\n",
    "\n",
    "plt.title('Yearly Global Active Power Consumption')\n",
    "plt.xlabel('Year')\n",
    "plt.ylabel('Total Global Active Power (units)')\n",
    "plt.grid(True)\n",
    "\n",
    "plt.gca().xaxis.set_major_locator(MaxNLocator(integer=True))\n",
    "\n",
    "plt.xticks(rotation=45)\n",
    "plt.tight_layout()\n",
    "plt.show()\n"
   ]
  },
  {
   "cell_type": "code",
   "execution_count": 95,
   "id": "aa53bad5",
   "metadata": {},
   "outputs": [
    {
     "data": {
      "text/html": [
       "<div>\n",
       "<style scoped>\n",
       "    .dataframe tbody tr th:only-of-type {\n",
       "        vertical-align: middle;\n",
       "    }\n",
       "\n",
       "    .dataframe tbody tr th {\n",
       "        vertical-align: top;\n",
       "    }\n",
       "\n",
       "    .dataframe thead th {\n",
       "        text-align: right;\n",
       "    }\n",
       "</style>\n",
       "<table border=\"1\" class=\"dataframe\">\n",
       "  <thead>\n",
       "    <tr style=\"text-align: right;\">\n",
       "      <th></th>\n",
       "      <th>Global_active_power</th>\n",
       "      <th>Year</th>\n",
       "      <th>Month</th>\n",
       "      <th>Day</th>\n",
       "    </tr>\n",
       "    <tr>\n",
       "      <th>Datetime</th>\n",
       "      <th></th>\n",
       "      <th></th>\n",
       "      <th></th>\n",
       "      <th></th>\n",
       "    </tr>\n",
       "  </thead>\n",
       "  <tbody>\n",
       "    <tr>\n",
       "      <th>2006-12-16 17:00:00</th>\n",
       "      <td>4.222889</td>\n",
       "      <td>2006.0</td>\n",
       "      <td>12.0</td>\n",
       "      <td>16.0</td>\n",
       "    </tr>\n",
       "    <tr>\n",
       "      <th>2006-12-16 18:00:00</th>\n",
       "      <td>3.632200</td>\n",
       "      <td>2006.0</td>\n",
       "      <td>12.0</td>\n",
       "      <td>16.0</td>\n",
       "    </tr>\n",
       "    <tr>\n",
       "      <th>2006-12-16 19:00:00</th>\n",
       "      <td>3.400233</td>\n",
       "      <td>2006.0</td>\n",
       "      <td>12.0</td>\n",
       "      <td>16.0</td>\n",
       "    </tr>\n",
       "    <tr>\n",
       "      <th>2006-12-16 20:00:00</th>\n",
       "      <td>3.268567</td>\n",
       "      <td>2006.0</td>\n",
       "      <td>12.0</td>\n",
       "      <td>16.0</td>\n",
       "    </tr>\n",
       "    <tr>\n",
       "      <th>2006-12-16 21:00:00</th>\n",
       "      <td>3.056467</td>\n",
       "      <td>2006.0</td>\n",
       "      <td>12.0</td>\n",
       "      <td>16.0</td>\n",
       "    </tr>\n",
       "  </tbody>\n",
       "</table>\n",
       "</div>"
      ],
      "text/plain": [
       "                     Global_active_power    Year  Month   Day\n",
       "Datetime                                                     \n",
       "2006-12-16 17:00:00             4.222889  2006.0   12.0  16.0\n",
       "2006-12-16 18:00:00             3.632200  2006.0   12.0  16.0\n",
       "2006-12-16 19:00:00             3.400233  2006.0   12.0  16.0\n",
       "2006-12-16 20:00:00             3.268567  2006.0   12.0  16.0\n",
       "2006-12-16 21:00:00             3.056467  2006.0   12.0  16.0"
      ]
     },
     "execution_count": 95,
     "metadata": {},
     "output_type": "execute_result"
    }
   ],
   "source": [
    "hourly_df = consumption_df.resample('H').mean()\n",
    "\n",
    "hourly_df.head()"
   ]
  },
  {
   "cell_type": "code",
   "execution_count": 96,
   "id": "1f46f002",
   "metadata": {},
   "outputs": [],
   "source": [
    "hourly_df['Global_active_power'].fillna(method='ffill', inplace=True)"
   ]
  },
  {
   "cell_type": "code",
   "execution_count": 97,
   "id": "4f8042ee",
   "metadata": {},
   "outputs": [
    {
     "data": {
      "text/plain": [
       "Global_active_power    0\n",
       "Year                   0\n",
       "Month                  0\n",
       "Day                    0\n",
       "dtype: int64"
      ]
     },
     "execution_count": 97,
     "metadata": {},
     "output_type": "execute_result"
    }
   ],
   "source": [
    "hourly_df.isnull().sum()"
   ]
  },
  {
   "cell_type": "markdown",
   "id": "732f86ee",
   "metadata": {},
   "source": [
    "Dropping irrelevant columns for the time-series"
   ]
  },
  {
   "cell_type": "code",
   "execution_count": 98,
   "id": "a8253b5f",
   "metadata": {},
   "outputs": [],
   "source": [
    "hourly_df = hourly_df.drop(['Year', 'Month', 'Day'], axis=1)"
   ]
  },
  {
   "cell_type": "code",
   "execution_count": 99,
   "id": "e29929fd",
   "metadata": {},
   "outputs": [
    {
     "data": {
      "text/html": [
       "<div>\n",
       "<style scoped>\n",
       "    .dataframe tbody tr th:only-of-type {\n",
       "        vertical-align: middle;\n",
       "    }\n",
       "\n",
       "    .dataframe tbody tr th {\n",
       "        vertical-align: top;\n",
       "    }\n",
       "\n",
       "    .dataframe thead th {\n",
       "        text-align: right;\n",
       "    }\n",
       "</style>\n",
       "<table border=\"1\" class=\"dataframe\">\n",
       "  <thead>\n",
       "    <tr style=\"text-align: right;\">\n",
       "      <th></th>\n",
       "      <th>Global_active_power</th>\n",
       "    </tr>\n",
       "    <tr>\n",
       "      <th>Datetime</th>\n",
       "      <th></th>\n",
       "    </tr>\n",
       "  </thead>\n",
       "  <tbody>\n",
       "    <tr>\n",
       "      <th>2006-12-16 17:00:00</th>\n",
       "      <td>4.222889</td>\n",
       "    </tr>\n",
       "    <tr>\n",
       "      <th>2006-12-16 18:00:00</th>\n",
       "      <td>3.632200</td>\n",
       "    </tr>\n",
       "    <tr>\n",
       "      <th>2006-12-16 19:00:00</th>\n",
       "      <td>3.400233</td>\n",
       "    </tr>\n",
       "    <tr>\n",
       "      <th>2006-12-16 20:00:00</th>\n",
       "      <td>3.268567</td>\n",
       "    </tr>\n",
       "    <tr>\n",
       "      <th>2006-12-16 21:00:00</th>\n",
       "      <td>3.056467</td>\n",
       "    </tr>\n",
       "  </tbody>\n",
       "</table>\n",
       "</div>"
      ],
      "text/plain": [
       "                     Global_active_power\n",
       "Datetime                                \n",
       "2006-12-16 17:00:00             4.222889\n",
       "2006-12-16 18:00:00             3.632200\n",
       "2006-12-16 19:00:00             3.400233\n",
       "2006-12-16 20:00:00             3.268567\n",
       "2006-12-16 21:00:00             3.056467"
      ]
     },
     "execution_count": 99,
     "metadata": {},
     "output_type": "execute_result"
    }
   ],
   "source": [
    "hourly_df.head()"
   ]
  },
  {
   "cell_type": "code",
   "execution_count": 100,
   "id": "d0c5de8c",
   "metadata": {},
   "outputs": [
    {
     "data": {
      "text/plain": [
       "(array([323969, 324336, 333096, 341880, 350640, 358557], dtype=int64),\n",
       " [Text(323969, 0, ''),\n",
       "  Text(324336, 0, 'Jan\\n2007'),\n",
       "  Text(333096, 0, 'Jan\\n2008'),\n",
       "  Text(341880, 0, 'Jan\\n2009'),\n",
       "  Text(350640, 0, 'Jan\\n2010'),\n",
       "  Text(358557, 0, '')])"
      ]
     },
     "execution_count": 100,
     "metadata": {},
     "output_type": "execute_result"
    },
    {
     "data": {
      "image/png": "[encoded data removed]",
      "text/plain": [
       "<Figure size 1500x600 with 1 Axes>"
      ]
     },
     "metadata": {},
     "output_type": "display_data"
    }
   ],
   "source": [
    "hourly_df['Global_active_power'].plot(figsize=(15, 6))\n",
    "plt.title('Global Active Power Over Time')\n",
    "plt.xlabel('Datetime')\n",
    "plt.ylabel('Global Active Power (kW)')\n",
    "plt.xticks(rotation=45) "
   ]
  },
  {
   "cell_type": "code",
   "execution_count": 101,
   "id": "9852e6a6",
   "metadata": {},
   "outputs": [
    {
     "data": {
      "text/html": [
       "<div>\n",
       "<style scoped>\n",
       "    .dataframe tbody tr th:only-of-type {\n",
       "        vertical-align: middle;\n",
       "    }\n",
       "\n",
       "    .dataframe tbody tr th {\n",
       "        vertical-align: top;\n",
       "    }\n",
       "\n",
       "    .dataframe thead th {\n",
       "        text-align: right;\n",
       "    }\n",
       "</style>\n",
       "<table border=\"1\" class=\"dataframe\">\n",
       "  <thead>\n",
       "    <tr style=\"text-align: right;\">\n",
       "      <th></th>\n",
       "      <th>Datetime</th>\n",
       "      <th>Global_active_power</th>\n",
       "    </tr>\n",
       "  </thead>\n",
       "  <tbody>\n",
       "    <tr>\n",
       "      <th>0</th>\n",
       "      <td>2006-12-16 17:00:00</td>\n",
       "      <td>4.222889</td>\n",
       "    </tr>\n",
       "    <tr>\n",
       "      <th>1</th>\n",
       "      <td>2006-12-16 18:00:00</td>\n",
       "      <td>3.632200</td>\n",
       "    </tr>\n",
       "    <tr>\n",
       "      <th>2</th>\n",
       "      <td>2006-12-16 19:00:00</td>\n",
       "      <td>3.400233</td>\n",
       "    </tr>\n",
       "    <tr>\n",
       "      <th>3</th>\n",
       "      <td>2006-12-16 20:00:00</td>\n",
       "      <td>3.268567</td>\n",
       "    </tr>\n",
       "    <tr>\n",
       "      <th>4</th>\n",
       "      <td>2006-12-16 21:00:00</td>\n",
       "      <td>3.056467</td>\n",
       "    </tr>\n",
       "  </tbody>\n",
       "</table>\n",
       "</div>"
      ],
      "text/plain": [
       "             Datetime  Global_active_power\n",
       "0 2006-12-16 17:00:00             4.222889\n",
       "1 2006-12-16 18:00:00             3.632200\n",
       "2 2006-12-16 19:00:00             3.400233\n",
       "3 2006-12-16 20:00:00             3.268567\n",
       "4 2006-12-16 21:00:00             3.056467"
      ]
     },
     "execution_count": 101,
     "metadata": {},
     "output_type": "execute_result"
    }
   ],
   "source": [
    "hourly_df.reset_index(inplace=True)\n",
    "\n",
    "hourly_df.head()"
   ]
  },
  {
   "cell_type": "code",
   "execution_count": 102,
   "id": "0baa7fb6",
   "metadata": {},
   "outputs": [
    {
     "name": "stdout",
     "output_type": "stream",
     "text": [
      "<class 'pandas.core.frame.DataFrame'>\n",
      "RangeIndex: 34589 entries, 0 to 34588\n",
      "Data columns (total 2 columns):\n",
      " #   Column               Non-Null Count  Dtype         \n",
      "---  ------               --------------  -----         \n",
      " 0   Datetime             34589 non-null  datetime64[ns]\n",
      " 1   Global_active_power  34589 non-null  float64       \n",
      "dtypes: datetime64[ns](1), float64(1)\n",
      "memory usage: 540.6 KB\n"
     ]
    }
   ],
   "source": [
    "hourly_df.info()"
   ]
  },
  {
   "cell_type": "code",
   "execution_count": 250,
   "id": "2ac31614",
   "metadata": {},
   "outputs": [],
   "source": [
    "# saving the new df to a new csv file which will be used later fwhen comparing the actual and predicted value\n",
    "hourly_df.to_csv('hourly_df.csv', index=False)"
   ]
  },
  {
   "cell_type": "code",
   "execution_count": 103,
   "id": "11c1db74",
   "metadata": {},
   "outputs": [],
   "source": [
    "hourly_df_simplified = hourly_df[['Global_active_power']].copy()"
   ]
  },
  {
   "cell_type": "code",
   "execution_count": 221,
   "id": "80d8bad0",
   "metadata": {},
   "outputs": [
    {
     "data": {
      "text/html": [
       "<div>\n",
       "<style scoped>\n",
       "    .dataframe tbody tr th:only-of-type {\n",
       "        vertical-align: middle;\n",
       "    }\n",
       "\n",
       "    .dataframe tbody tr th {\n",
       "        vertical-align: top;\n",
       "    }\n",
       "\n",
       "    .dataframe thead th {\n",
       "        text-align: right;\n",
       "    }\n",
       "</style>\n",
       "<table border=\"1\" class=\"dataframe\">\n",
       "  <thead>\n",
       "    <tr style=\"text-align: right;\">\n",
       "      <th></th>\n",
       "      <th>Global_active_power</th>\n",
       "    </tr>\n",
       "  </thead>\n",
       "  <tbody>\n",
       "    <tr>\n",
       "      <th>0</th>\n",
       "      <td>4.222889</td>\n",
       "    </tr>\n",
       "    <tr>\n",
       "      <th>1</th>\n",
       "      <td>3.632200</td>\n",
       "    </tr>\n",
       "    <tr>\n",
       "      <th>2</th>\n",
       "      <td>3.400233</td>\n",
       "    </tr>\n",
       "    <tr>\n",
       "      <th>3</th>\n",
       "      <td>3.268567</td>\n",
       "    </tr>\n",
       "    <tr>\n",
       "      <th>4</th>\n",
       "      <td>3.056467</td>\n",
       "    </tr>\n",
       "  </tbody>\n",
       "</table>\n",
       "</div>"
      ],
      "text/plain": [
       "   Global_active_power\n",
       "0             4.222889\n",
       "1             3.632200\n",
       "2             3.400233\n",
       "3             3.268567\n",
       "4             3.056467"
      ]
     },
     "execution_count": 221,
     "metadata": {},
     "output_type": "execute_result"
    }
   ],
   "source": [
    "hourly_df_simplified.head()"
   ]
  },
  {
   "cell_type": "code",
   "execution_count": 264,
   "id": "dec0bc0b",
   "metadata": {},
   "outputs": [
    {
     "data": {
      "text/html": [
       "<div>\n",
       "<style scoped>\n",
       "    .dataframe tbody tr th:only-of-type {\n",
       "        vertical-align: middle;\n",
       "    }\n",
       "\n",
       "    .dataframe tbody tr th {\n",
       "        vertical-align: top;\n",
       "    }\n",
       "\n",
       "    .dataframe thead th {\n",
       "        text-align: right;\n",
       "    }\n",
       "</style>\n",
       "<table border=\"1\" class=\"dataframe\">\n",
       "  <thead>\n",
       "    <tr style=\"text-align: right;\">\n",
       "      <th></th>\n",
       "      <th>Global_active_power</th>\n",
       "    </tr>\n",
       "  </thead>\n",
       "  <tbody>\n",
       "    <tr>\n",
       "      <th>34584</th>\n",
       "      <td>1.725900</td>\n",
       "    </tr>\n",
       "    <tr>\n",
       "      <th>34585</th>\n",
       "      <td>1.573467</td>\n",
       "    </tr>\n",
       "    <tr>\n",
       "      <th>34586</th>\n",
       "      <td>1.659333</td>\n",
       "    </tr>\n",
       "    <tr>\n",
       "      <th>34587</th>\n",
       "      <td>1.163700</td>\n",
       "    </tr>\n",
       "    <tr>\n",
       "      <th>34588</th>\n",
       "      <td>0.934667</td>\n",
       "    </tr>\n",
       "  </tbody>\n",
       "</table>\n",
       "</div>"
      ],
      "text/plain": [
       "       Global_active_power\n",
       "34584             1.725900\n",
       "34585             1.573467\n",
       "34586             1.659333\n",
       "34587             1.163700\n",
       "34588             0.934667"
      ]
     },
     "execution_count": 264,
     "metadata": {},
     "output_type": "execute_result"
    }
   ],
   "source": [
    "hourly_df_simplified.tail()"
   ]
  },
  {
   "cell_type": "code",
   "execution_count": 222,
   "id": "cabb699c",
   "metadata": {},
   "outputs": [
    {
     "data": {
      "text/plain": [
       "Global_active_power    0\n",
       "dtype: int64"
      ]
     },
     "execution_count": 222,
     "metadata": {},
     "output_type": "execute_result"
    }
   ],
   "source": [
    "hourly_df_simplified.isnull().sum()"
   ]
  },
  {
   "cell_type": "markdown",
   "id": "4d8e166f",
   "metadata": {},
   "source": [
    "As LSTM models require data in sprcific format there are several steps I need to take before  actually creating the model. First, I need to make sure that I transofrm the dataframe into an array."
   ]
  },
  {
   "cell_type": "code",
   "execution_count": 223,
   "id": "29fb1bf4",
   "metadata": {},
   "outputs": [
    {
     "data": {
      "text/plain": [
       "pandas.core.frame.DataFrame"
      ]
     },
     "execution_count": 223,
     "metadata": {},
     "output_type": "execute_result"
    }
   ],
   "source": [
    "type(hourly_df_simplified)"
   ]
  },
  {
   "cell_type": "code",
   "execution_count": 224,
   "id": "7c2ae21c",
   "metadata": {},
   "outputs": [
    {
     "data": {
      "text/plain": [
       "array([[4.22288889],\n",
       "       [3.6322    ],\n",
       "       [3.40023333],\n",
       "       ...,\n",
       "       [1.65933333],\n",
       "       [1.1637    ],\n",
       "       [0.93466667]])"
      ]
     },
     "execution_count": 224,
     "metadata": {},
     "output_type": "execute_result"
    }
   ],
   "source": [
    "hourly_array = hourly_df_simplified.values\n",
    "hourly_array"
   ]
  },
  {
   "cell_type": "code",
   "execution_count": 225,
   "id": "8f3e3bdb",
   "metadata": {},
   "outputs": [
    {
     "data": {
      "text/plain": [
       "numpy.ndarray"
      ]
     },
     "execution_count": 225,
     "metadata": {},
     "output_type": "execute_result"
    }
   ],
   "source": [
    "type(hourly_array)"
   ]
  },
  {
   "cell_type": "code",
   "execution_count": 226,
   "id": "6877047c",
   "metadata": {},
   "outputs": [],
   "source": [
    "hourly_data_len = math.ceil(len(hourly_array) * .8)"
   ]
  },
  {
   "cell_type": "code",
   "execution_count": 227,
   "id": "c8befc1a",
   "metadata": {},
   "outputs": [
    {
     "data": {
      "text/plain": [
       "27672"
      ]
     },
     "execution_count": 227,
     "metadata": {},
     "output_type": "execute_result"
    }
   ],
   "source": [
    "hourly_data_len"
   ]
  },
  {
   "cell_type": "markdown",
   "id": "edb3d936",
   "metadata": {},
   "source": [
    "Another important step is to scale the data. For this purpose 'MinMaxScaler' was chosen to normalize the data into the range of 0 to 1. This ensures that all input values contribute equally into the training process. \n"
   ]
  },
  {
   "cell_type": "code",
   "execution_count": 228,
   "id": "6ef68fe6",
   "metadata": {},
   "outputs": [],
   "source": [
    "scaler = MinMaxScaler(feature_range=(0,1))\n",
    "hourly_array = scaler.fit_transform(hourly_array)"
   ]
  },
  {
   "cell_type": "code",
   "execution_count": 229,
   "id": "0b44c3e5",
   "metadata": {},
   "outputs": [
    {
     "data": {
      "text/plain": [
       "array([[0.63681623],\n",
       "       [0.54504495],\n",
       "       [0.50900588],\n",
       "       ...,\n",
       "       [0.2385342 ],\n",
       "       [0.16153105],\n",
       "       [0.12594772]])"
      ]
     },
     "execution_count": 229,
     "metadata": {},
     "output_type": "execute_result"
    }
   ],
   "source": [
    "hourly_array"
   ]
  },
  {
   "cell_type": "code",
   "execution_count": 230,
   "id": "f31d57a0",
   "metadata": {},
   "outputs": [],
   "source": [
    "train_data = hourly_array[0:hourly_data_len , :]"
   ]
  },
  {
   "cell_type": "code",
   "execution_count": 231,
   "id": "5fd06f21",
   "metadata": {},
   "outputs": [],
   "source": [
    "x_train =[]\n",
    "y_train =[]"
   ]
  },
  {
   "cell_type": "markdown",
   "id": "bec4684c",
   "metadata": {},
   "source": [
    "I will be taking a series of 24 data points (the last 24 hours, in this case) and use that sequence to predict the next data point. "
   ]
  },
  {
   "cell_type": "code",
   "execution_count": 232,
   "id": "e20df977",
   "metadata": {},
   "outputs": [],
   "source": [
    "for i in range(24, len(train_data)):\n",
    "    x_train.append(train_data[i-24:i,0])\n",
    "    y_train.append(train_data[i,0])"
   ]
  },
  {
   "cell_type": "markdown",
   "id": "3d9878d1",
   "metadata": {},
   "source": [
    "Make sure that I work with arrays "
   ]
  },
  {
   "cell_type": "code",
   "execution_count": 233,
   "id": "d085ae20",
   "metadata": {},
   "outputs": [],
   "source": [
    "x_train, y_train = np.array(x_train), np.array(y_train)"
   ]
  },
  {
   "cell_type": "code",
   "execution_count": 234,
   "id": "de5f623c",
   "metadata": {},
   "outputs": [
    {
     "name": "stdout",
     "output_type": "stream",
     "text": [
      "(27648, 24) (27648,)\n"
     ]
    }
   ],
   "source": [
    "print(x_train.shape, y_train.shape)"
   ]
  },
  {
   "cell_type": "markdown",
   "id": "d945b066",
   "metadata": {},
   "source": [
    "The input value should  be in 3 dimensions - NN input values should be in 3dimensional format"
   ]
  },
  {
   "cell_type": "code",
   "execution_count": 235,
   "id": "00bc94ca",
   "metadata": {},
   "outputs": [
    {
     "data": {
      "text/plain": [
       "(27648, 24, 1)"
      ]
     },
     "execution_count": 235,
     "metadata": {},
     "output_type": "execute_result"
    }
   ],
   "source": [
    "x_train =np.reshape(x_train,(x_train.shape[0], x_train.shape[1],1))\n",
    "x_train.shape"
   ]
  },
  {
   "cell_type": "markdown",
   "id": "60950d29",
   "metadata": {},
   "source": [
    "Building the model.\n",
    "\n",
    "I will start with a very simple model and based on the results I get I will decide if there is need for adding more layers and making the model more complicate. \n",
    "\n",
    "I selected Sequential to ensure that the model is built through adding sequences of layers over time. \n",
    "\n",
    "I will start with 50 units, meaning that the LSTM layer has 50 neurons. \n",
    "\n",
    "By selecting the dropout at 20% I hope that I will prevent overfitting by ensuring my model does not rely too much on any single neuron.\n",
    "\n",
    "The Dense layer is 1 as I am predicting a single continous value."
   ]
  },
  {
   "cell_type": "code",
   "execution_count": 236,
   "id": "f60e5d61",
   "metadata": {},
   "outputs": [],
   "source": [
    "model = Sequential()\n",
    "model.add(LSTM(units=50, input_shape=(x_train.shape[1], 1)))\n",
    "model.add(Dropout(0.2))\n",
    "model.add(Dense(1))"
   ]
  },
  {
   "cell_type": "markdown",
   "id": "955216de",
   "metadata": {},
   "source": [
    "Fot the optimized I will use 'adam' for its adaptability and efficiency across a wide range of problems.\n",
    "\n",
    "For the loss function the 'mse' or mean squared error was chosen as it is appropriate for regression problems."
   ]
  },
  {
   "cell_type": "code",
   "execution_count": 237,
   "id": "db9b2009",
   "metadata": {},
   "outputs": [],
   "source": [
    "model.compile(loss='mse', optimizer='adam', metrics=['accuracy'])"
   ]
  },
  {
   "cell_type": "code",
   "execution_count": 238,
   "id": "6218fe03",
   "metadata": {},
   "outputs": [
    {
     "name": "stdout",
     "output_type": "stream",
     "text": [
      "Epoch 1/10\n",
      "395/395 [==============================] - 5s 8ms/step - loss: 0.0135 - accuracy: 3.6169e-05\n",
      "Epoch 2/10\n",
      "395/395 [==============================] - 3s 8ms/step - loss: 0.0102 - accuracy: 3.6169e-05\n",
      "Epoch 3/10\n",
      "395/395 [==============================] - 4s 9ms/step - loss: 0.0100 - accuracy: 7.2338e-05\n",
      "Epoch 4/10\n",
      "395/395 [==============================] - 4s 9ms/step - loss: 0.0098 - accuracy: 3.6169e-05\n",
      "Epoch 5/10\n",
      "395/395 [==============================] - 5s 12ms/step - loss: 0.0094 - accuracy: 7.2338e-05\n",
      "Epoch 6/10\n",
      "395/395 [==============================] - 5s 12ms/step - loss: 0.0092 - accuracy: 3.6169e-05\n",
      "Epoch 7/10\n",
      "395/395 [==============================] - 4s 10ms/step - loss: 0.0091 - accuracy: 7.2338e-05\n",
      "Epoch 8/10\n",
      "395/395 [==============================] - 4s 9ms/step - loss: 0.0090 - accuracy: 7.2338e-05\n",
      "Epoch 9/10\n",
      "395/395 [==============================] - 5s 11ms/step - loss: 0.0089 - accuracy: 7.2338e-05\n",
      "Epoch 10/10\n",
      "395/395 [==============================] - 4s 10ms/step - loss: 0.0089 - accuracy: 7.2338e-05\n"
     ]
    },
    {
     "data": {
      "text/plain": [
       "<keras.src.callbacks.History at 0x17722c1d550>"
      ]
     },
     "execution_count": 238,
     "metadata": {},
     "output_type": "execute_result"
    }
   ],
   "source": [
    "model.fit(x_train, y_train, batch_size =70 , epochs = 10)"
   ]
  },
  {
   "cell_type": "markdown",
   "id": "f41a48ec",
   "metadata": {},
   "source": [
    "Adding another layer to the model"
   ]
  },
  {
   "cell_type": "code",
   "execution_count": 182,
   "id": "9988f84c",
   "metadata": {},
   "outputs": [],
   "source": [
    "model = Sequential()\n",
    "model.add(LSTM(units=45, return_sequences = True, input_shape=(x_train.shape[1], 1)))\n",
    "model.add(Dropout(0.2))\n",
    "model.add(LSTM(units = 45))\n",
    "model.add(Dropout(0.2))\n",
    "model.add(Dense(1))"
   ]
  },
  {
   "cell_type": "code",
   "execution_count": 183,
   "id": "6a876a2a",
   "metadata": {},
   "outputs": [],
   "source": [
    "model.compile(loss='mse', optimizer='adam', metrics=['accuracy'])"
   ]
  },
  {
   "cell_type": "code",
   "execution_count": 184,
   "id": "8fddf179",
   "metadata": {},
   "outputs": [
    {
     "name": "stdout",
     "output_type": "stream",
     "text": [
      "Epoch 1/100\n",
      "93/93 [==============================] - 7s 47ms/step - loss: 0.0197 - accuracy: 3.6169e-05\n",
      "Epoch 2/100\n",
      "93/93 [==============================] - 5s 56ms/step - loss: 0.0151 - accuracy: 3.6169e-05\n",
      "Epoch 3/100\n",
      "93/93 [==============================] - 4s 44ms/step - loss: 0.0119 - accuracy: 3.6169e-05\n",
      "Epoch 4/100\n",
      "93/93 [==============================] - 4s 44ms/step - loss: 0.0106 - accuracy: 3.6169e-05\n",
      "Epoch 5/100\n",
      "93/93 [==============================] - 4s 46ms/step - loss: 0.0104 - accuracy: 7.2338e-05\n",
      "Epoch 6/100\n",
      "93/93 [==============================] - 5s 51ms/step - loss: 0.0101 - accuracy: 3.6169e-05\n",
      "Epoch 7/100\n",
      "93/93 [==============================] - 4s 44ms/step - loss: 0.0100 - accuracy: 3.6169e-05\n",
      "Epoch 8/100\n",
      "93/93 [==============================] - 4s 44ms/step - loss: 0.0097 - accuracy: 7.2338e-05\n",
      "Epoch 9/100\n",
      "93/93 [==============================] - 5s 49ms/step - loss: 0.0095 - accuracy: 7.2338e-05\n",
      "Epoch 10/100\n",
      "93/93 [==============================] - 4s 46ms/step - loss: 0.0096 - accuracy: 7.2338e-05\n",
      "Epoch 11/100\n",
      "93/93 [==============================] - 4s 44ms/step - loss: 0.0094 - accuracy: 3.6169e-05\n",
      "Epoch 12/100\n",
      "93/93 [==============================] - 4s 43ms/step - loss: 0.0093 - accuracy: 7.2338e-05\n",
      "Epoch 13/100\n",
      "93/93 [==============================] - 5s 51ms/step - loss: 0.0093 - accuracy: 3.6169e-05\n",
      "Epoch 14/100\n",
      "93/93 [==============================] - 4s 48ms/step - loss: 0.0092 - accuracy: 3.6169e-05\n",
      "Epoch 15/100\n",
      "93/93 [==============================] - 4s 42ms/step - loss: 0.0092 - accuracy: 7.2338e-05\n",
      "Epoch 16/100\n",
      "93/93 [==============================] - 4s 45ms/step - loss: 0.0091 - accuracy: 3.6169e-05\n",
      "Epoch 17/100\n",
      "93/93 [==============================] - 5s 52ms/step - loss: 0.0091 - accuracy: 7.2338e-05\n",
      "Epoch 18/100\n",
      "93/93 [==============================] - 4s 43ms/step - loss: 0.0091 - accuracy: 7.2338e-05\n",
      "Epoch 19/100\n",
      "93/93 [==============================] - 4s 44ms/step - loss: 0.0090 - accuracy: 3.6169e-05\n",
      "Epoch 20/100\n",
      "93/93 [==============================] - 4s 46ms/step - loss: 0.0090 - accuracy: 3.6169e-05\n",
      "Epoch 21/100\n",
      "93/93 [==============================] - 5s 50ms/step - loss: 0.0090 - accuracy: 3.6169e-05\n",
      "Epoch 22/100\n",
      "93/93 [==============================] - 4s 43ms/step - loss: 0.0090 - accuracy: 7.2338e-05\n",
      "Epoch 23/100\n",
      "93/93 [==============================] - 4s 42ms/step - loss: 0.0089 - accuracy: 7.2338e-05\n",
      "Epoch 24/100\n",
      "93/93 [==============================] - 5s 51ms/step - loss: 0.0089 - accuracy: 7.2338e-05\n",
      "Epoch 25/100\n",
      "93/93 [==============================] - 4s 47ms/step - loss: 0.0089 - accuracy: 3.6169e-05\n",
      "Epoch 26/100\n",
      "93/93 [==============================] - 4s 43ms/step - loss: 0.0089 - accuracy: 7.2338e-05\n",
      "Epoch 27/100\n",
      "93/93 [==============================] - 4s 43ms/step - loss: 0.0089 - accuracy: 3.6169e-05\n",
      "Epoch 28/100\n",
      "93/93 [==============================] - 5s 54ms/step - loss: 0.0089 - accuracy: 3.6169e-05\n",
      "Epoch 29/100\n",
      "93/93 [==============================] - 4s 44ms/step - loss: 0.0089 - accuracy: 7.2338e-05\n",
      "Epoch 30/100\n",
      "93/93 [==============================] - 4s 43ms/step - loss: 0.0088 - accuracy: 7.2338e-05\n",
      "Epoch 31/100\n",
      "93/93 [==============================] - 4s 46ms/step - loss: 0.0088 - accuracy: 3.6169e-05\n",
      "Epoch 32/100\n",
      "93/93 [==============================] - 5s 51ms/step - loss: 0.0088 - accuracy: 7.2338e-05\n",
      "Epoch 33/100\n",
      "93/93 [==============================] - 4s 44ms/step - loss: 0.0088 - accuracy: 3.6169e-05\n",
      "Epoch 34/100\n",
      "93/93 [==============================] - 4s 44ms/step - loss: 0.0088 - accuracy: 7.2338e-05\n",
      "Epoch 35/100\n",
      "93/93 [==============================] - 5s 52ms/step - loss: 0.0088 - accuracy: 7.2338e-05\n",
      "Epoch 36/100\n",
      "93/93 [==============================] - 4s 47ms/step - loss: 0.0087 - accuracy: 7.2338e-05\n",
      "Epoch 37/100\n",
      "93/93 [==============================] - 4s 44ms/step - loss: 0.0088 - accuracy: 3.6169e-05\n",
      "Epoch 38/100\n",
      "93/93 [==============================] - 4s 46ms/step - loss: 0.0087 - accuracy: 7.2338e-05\n",
      "Epoch 39/100\n",
      "93/93 [==============================] - 5s 53ms/step - loss: 0.0087 - accuracy: 3.6169e-05\n",
      "Epoch 40/100\n",
      "93/93 [==============================] - 4s 44ms/step - loss: 0.0087 - accuracy: 3.6169e-05\n",
      "Epoch 41/100\n",
      "93/93 [==============================] - 4s 44ms/step - loss: 0.0088 - accuracy: 7.2338e-05\n",
      "Epoch 42/100\n",
      "93/93 [==============================] - 4s 47ms/step - loss: 0.0087 - accuracy: 3.6169e-05\n",
      "Epoch 43/100\n",
      "93/93 [==============================] - 5s 52ms/step - loss: 0.0087 - accuracy: 3.6169e-05\n",
      "Epoch 44/100\n",
      "93/93 [==============================] - 4s 45ms/step - loss: 0.0087 - accuracy: 3.6169e-05\n",
      "Epoch 45/100\n",
      "93/93 [==============================] - 4s 45ms/step - loss: 0.0087 - accuracy: 7.2338e-05\n",
      "Epoch 46/100\n",
      "93/93 [==============================] - 5s 53ms/step - loss: 0.0087 - accuracy: 3.6169e-05\n",
      "Epoch 47/100\n",
      "93/93 [==============================] - 5s 53ms/step - loss: 0.0087 - accuracy: 3.6169e-05\n",
      "Epoch 48/100\n",
      "93/93 [==============================] - 5s 54ms/step - loss: 0.0087 - accuracy: 3.6169e-05\n",
      "Epoch 49/100\n",
      "93/93 [==============================] - 5s 57ms/step - loss: 0.0087 - accuracy: 3.6169e-05\n",
      "Epoch 50/100\n",
      "93/93 [==============================] - 5s 50ms/step - loss: 0.0087 - accuracy: 7.2338e-05\n",
      "Epoch 51/100\n",
      "93/93 [==============================] - 4s 44ms/step - loss: 0.0087 - accuracy: 7.2338e-05\n",
      "Epoch 52/100\n",
      "93/93 [==============================] - 5s 49ms/step - loss: 0.0087 - accuracy: 7.2338e-05\n",
      "Epoch 53/100\n",
      "93/93 [==============================] - 5s 58ms/step - loss: 0.0086 - accuracy: 3.6169e-05\n",
      "Epoch 54/100\n",
      "93/93 [==============================] - 5s 49ms/step - loss: 0.0086 - accuracy: 7.2338e-05\n",
      "Epoch 55/100\n",
      "93/93 [==============================] - 4s 47ms/step - loss: 0.0086 - accuracy: 3.6169e-05\n",
      "Epoch 56/100\n",
      "93/93 [==============================] - 5s 52ms/step - loss: 0.0086 - accuracy: 7.2338e-05\n",
      "Epoch 57/100\n",
      "93/93 [==============================] - 5s 51ms/step - loss: 0.0087 - accuracy: 7.2338e-05\n",
      "Epoch 58/100\n",
      "93/93 [==============================] - 4s 47ms/step - loss: 0.0086 - accuracy: 3.6169e-05\n",
      "Epoch 59/100\n",
      "93/93 [==============================] - 4s 47ms/step - loss: 0.0086 - accuracy: 3.6169e-05\n",
      "Epoch 60/100\n",
      "93/93 [==============================] - 5s 56ms/step - loss: 0.0086 - accuracy: 7.2338e-05\n",
      "Epoch 61/100\n",
      "93/93 [==============================] - 4s 48ms/step - loss: 0.0086 - accuracy: 7.2338e-05\n",
      "Epoch 62/100\n",
      "93/93 [==============================] - 4s 47ms/step - loss: 0.0086 - accuracy: 3.6169e-05\n",
      "Epoch 63/100\n",
      "93/93 [==============================] - 5s 54ms/step - loss: 0.0086 - accuracy: 7.2338e-05\n",
      "Epoch 64/100\n",
      "93/93 [==============================] - 5s 52ms/step - loss: 0.0086 - accuracy: 3.6169e-05\n",
      "Epoch 65/100\n",
      "93/93 [==============================] - 5s 50ms/step - loss: 0.0087 - accuracy: 3.6169e-05\n",
      "Epoch 66/100\n",
      "93/93 [==============================] - 5s 53ms/step - loss: 0.0086 - accuracy: 3.6169e-05\n",
      "Epoch 67/100\n",
      "93/93 [==============================] - 5s 53ms/step - loss: 0.0086 - accuracy: 7.2338e-05\n",
      "Epoch 68/100\n",
      "93/93 [==============================] - 4s 48ms/step - loss: 0.0086 - accuracy: 3.6169e-05\n",
      "Epoch 69/100\n",
      "93/93 [==============================] - 5s 55ms/step - loss: 0.0086 - accuracy: 3.6169e-05\n",
      "Epoch 70/100\n",
      "93/93 [==============================] - 6s 63ms/step - loss: 0.0086 - accuracy: 3.6169e-05\n",
      "Epoch 71/100\n",
      "93/93 [==============================] - 5s 50ms/step - loss: 0.0086 - accuracy: 3.6169e-05\n",
      "Epoch 72/100\n",
      "93/93 [==============================] - 5s 53ms/step - loss: 0.0086 - accuracy: 3.6169e-05\n",
      "Epoch 73/100\n",
      "93/93 [==============================] - 5s 59ms/step - loss: 0.0086 - accuracy: 3.6169e-05\n",
      "Epoch 74/100\n",
      "93/93 [==============================] - 5s 51ms/step - loss: 0.0086 - accuracy: 3.6169e-05\n",
      "Epoch 75/100\n",
      "93/93 [==============================] - 5s 50ms/step - loss: 0.0085 - accuracy: 3.6169e-05\n",
      "Epoch 76/100\n",
      "93/93 [==============================] - 5s 57ms/step - loss: 0.0086 - accuracy: 7.2338e-05\n",
      "Epoch 77/100\n",
      "93/93 [==============================] - 5s 50ms/step - loss: 0.0085 - accuracy: 3.6169e-05\n",
      "Epoch 78/100\n",
      "93/93 [==============================] - 5s 50ms/step - loss: 0.0086 - accuracy: 3.6169e-05\n",
      "Epoch 79/100\n"
     ]
    },
    {
     "name": "stdout",
     "output_type": "stream",
     "text": [
      "93/93 [==============================] - 5s 53ms/step - loss: 0.0085 - accuracy: 3.6169e-05\n",
      "Epoch 80/100\n",
      "93/93 [==============================] - 5s 50ms/step - loss: 0.0085 - accuracy: 3.6169e-05\n",
      "Epoch 81/100\n",
      "93/93 [==============================] - 4s 46ms/step - loss: 0.0085 - accuracy: 7.2338e-05\n",
      "Epoch 82/100\n",
      "93/93 [==============================] - 4s 47ms/step - loss: 0.0085 - accuracy: 3.6169e-05\n",
      "Epoch 83/100\n",
      "93/93 [==============================] - 5s 57ms/step - loss: 0.0085 - accuracy: 3.6169e-05\n",
      "Epoch 84/100\n",
      "93/93 [==============================] - 4s 47ms/step - loss: 0.0085 - accuracy: 3.6169e-05\n",
      "Epoch 85/100\n",
      "93/93 [==============================] - 4s 45ms/step - loss: 0.0085 - accuracy: 3.6169e-05\n",
      "Epoch 86/100\n",
      "93/93 [==============================] - 5s 52ms/step - loss: 0.0085 - accuracy: 3.6169e-05\n",
      "Epoch 87/100\n",
      "93/93 [==============================] - 5s 52ms/step - loss: 0.0086 - accuracy: 3.6169e-05\n",
      "Epoch 88/100\n",
      "93/93 [==============================] - 4s 45ms/step - loss: 0.0085 - accuracy: 3.6169e-05\n",
      "Epoch 89/100\n",
      "93/93 [==============================] - 5s 51ms/step - loss: 0.0085 - accuracy: 3.6169e-05\n",
      "Epoch 90/100\n",
      "93/93 [==============================] - 5s 58ms/step - loss: 0.0085 - accuracy: 3.6169e-05\n",
      "Epoch 91/100\n",
      "93/93 [==============================] - 5s 53ms/step - loss: 0.0085 - accuracy: 3.6169e-05\n",
      "Epoch 92/100\n",
      "93/93 [==============================] - 5s 55ms/step - loss: 0.0085 - accuracy: 7.2338e-05\n",
      "Epoch 93/100\n",
      "93/93 [==============================] - 5s 58ms/step - loss: 0.0085 - accuracy: 3.6169e-05\n",
      "Epoch 94/100\n",
      "93/93 [==============================] - 5s 58ms/step - loss: 0.0085 - accuracy: 3.6169e-05\n",
      "Epoch 95/100\n",
      "93/93 [==============================] - 5s 56ms/step - loss: 0.0085 - accuracy: 3.6169e-05\n",
      "Epoch 96/100\n",
      "93/93 [==============================] - 5s 54ms/step - loss: 0.0085 - accuracy: 7.2338e-05\n",
      "Epoch 97/100\n",
      "93/93 [==============================] - 5s 51ms/step - loss: 0.0085 - accuracy: 3.6169e-05\n",
      "Epoch 98/100\n",
      "93/93 [==============================] - 5s 51ms/step - loss: 0.0084 - accuracy: 3.6169e-05\n",
      "Epoch 99/100\n",
      "93/93 [==============================] - 5s 53ms/step - loss: 0.0084 - accuracy: 3.6169e-05\n",
      "Epoch 100/100\n",
      "93/93 [==============================] - 5s 48ms/step - loss: 0.0084 - accuracy: 3.6169e-05\n"
     ]
    },
    {
     "data": {
      "text/plain": [
       "<keras.src.callbacks.History at 0x176f871dd90>"
      ]
     },
     "execution_count": 184,
     "metadata": {},
     "output_type": "execute_result"
    }
   ],
   "source": [
    "model.fit(x_train, y_train, batch_size = 300, epochs = 100)"
   ]
  },
  {
   "cell_type": "markdown",
   "id": "6475f529",
   "metadata": {},
   "source": [
    "We can observe that adding another layer to the model, increasing the batch size and epochs in fact decreases the loss function. "
   ]
  },
  {
   "cell_type": "code",
   "execution_count": 239,
   "id": "25fb5556",
   "metadata": {},
   "outputs": [],
   "source": [
    "test_data = hourly_array[hourly_data_len -24: , :]"
   ]
  },
  {
   "cell_type": "code",
   "execution_count": 240,
   "id": "fb1e4776",
   "metadata": {},
   "outputs": [],
   "source": [
    "x_test = []\n",
    "y_test = hourly_array[hourly_data_len:, :]"
   ]
  },
  {
   "cell_type": "code",
   "execution_count": 241,
   "id": "c5fd368c",
   "metadata": {},
   "outputs": [],
   "source": [
    "for i in range(24,len(test_data)):\n",
    "    x_test.append(test_data[i-24:i, 0])"
   ]
  },
  {
   "cell_type": "code",
   "execution_count": 242,
   "id": "cde4213d",
   "metadata": {},
   "outputs": [
    {
     "data": {
      "text/plain": [
       "array([[0.20888056, 0.25577433, 0.24344885, ..., 0.02823466, 0.03621515,\n",
       "        0.05495712],\n",
       "       [0.25577433, 0.24344885, 0.24126341, ..., 0.03621515, 0.05495712,\n",
       "        0.08253926],\n",
       "       [0.24344885, 0.24126341, 0.42139143, ..., 0.05495712, 0.08253926,\n",
       "        0.2038934 ],\n",
       "       ...,\n",
       "       [0.34280358, 0.23674752, 0.1893773 , ..., 0.14665244, 0.24887621,\n",
       "        0.22519369],\n",
       "       [0.23674752, 0.1893773 , 0.17456084, ..., 0.24887621, 0.22519369,\n",
       "        0.2385342 ],\n",
       "       [0.1893773 , 0.17456084, 0.12941749, ..., 0.22519369, 0.2385342 ,\n",
       "        0.16153105]])"
      ]
     },
     "execution_count": 242,
     "metadata": {},
     "output_type": "execute_result"
    }
   ],
   "source": [
    "x_test = np.array(x_test)\n",
    "x_test"
   ]
  },
  {
   "cell_type": "code",
   "execution_count": 243,
   "id": "b6efa039",
   "metadata": {},
   "outputs": [],
   "source": [
    "x_test = np.reshape(x_test,(x_test.shape[0], x_test.shape[1],1))"
   ]
  },
  {
   "cell_type": "code",
   "execution_count": 244,
   "id": "e3df3834",
   "metadata": {},
   "outputs": [
    {
     "name": "stdout",
     "output_type": "stream",
     "text": [
      "217/217 [==============================] - 1s 3ms/step\n"
     ]
    }
   ],
   "source": [
    "predictions = model.predict(x_test)"
   ]
  },
  {
   "cell_type": "code",
   "execution_count": 245,
   "id": "cc82a08e",
   "metadata": {},
   "outputs": [],
   "source": [
    "predictions = scaler.inverse_transform(predictions)"
   ]
  },
  {
   "cell_type": "code",
   "execution_count": 246,
   "id": "ff6214f6",
   "metadata": {},
   "outputs": [],
   "source": [
    "rmse = np.sqrt(mean_squared_error(scaler.inverse_transform(y_test),predictions))\n",
    "r2_value = r2_score(scaler.inverse_transform(y_test),predictions)"
   ]
  },
  {
   "cell_type": "code",
   "execution_count": 278,
   "id": "781d367a",
   "metadata": {},
   "outputs": [
    {
     "name": "stdout",
     "output_type": "stream",
     "text": [
      "Root Mean Square Error:  0.5073878666232441\n",
      "R^2 Value:  0.5179984354205793\n"
     ]
    }
   ],
   "source": [
    "print(\"Root Mean Square Error: \", rmse)\n",
    "print(\"R^2 Value: \", r2_value)"
   ]
  },
  {
   "cell_type": "code",
   "execution_count": 279,
   "id": "ff60e60d",
   "metadata": {},
   "outputs": [],
   "source": [
    "train = hourly_df[:hourly_data_len]\n",
    "valid['Predictions'] = predictions"
   ]
  },
  {
   "cell_type": "code",
   "execution_count": 284,
   "id": "b17195ac",
   "metadata": {},
   "outputs": [
    {
     "data": {
      "text/html": [
       "<div>\n",
       "<style scoped>\n",
       "    .dataframe tbody tr th:only-of-type {\n",
       "        vertical-align: middle;\n",
       "    }\n",
       "\n",
       "    .dataframe tbody tr th {\n",
       "        vertical-align: top;\n",
       "    }\n",
       "\n",
       "    .dataframe thead th {\n",
       "        text-align: right;\n",
       "    }\n",
       "</style>\n",
       "<table border=\"1\" class=\"dataframe\">\n",
       "  <thead>\n",
       "    <tr style=\"text-align: right;\">\n",
       "      <th></th>\n",
       "      <th>Datetime</th>\n",
       "      <th>Global_active_power</th>\n",
       "      <th>Predictions</th>\n",
       "    </tr>\n",
       "  </thead>\n",
       "  <tbody>\n",
       "    <tr>\n",
       "      <th>27672</th>\n",
       "      <td>2010-02-11 17:00:00</td>\n",
       "      <td>0.655267</td>\n",
       "      <td>0.868807</td>\n",
       "    </tr>\n",
       "    <tr>\n",
       "      <th>27673</th>\n",
       "      <td>2010-02-11 18:00:00</td>\n",
       "      <td>1.436367</td>\n",
       "      <td>1.116328</td>\n",
       "    </tr>\n",
       "    <tr>\n",
       "      <th>27674</th>\n",
       "      <td>2010-02-11 19:00:00</td>\n",
       "      <td>2.319900</td>\n",
       "      <td>1.714665</td>\n",
       "    </tr>\n",
       "    <tr>\n",
       "      <th>27675</th>\n",
       "      <td>2010-02-11 20:00:00</td>\n",
       "      <td>2.159933</td>\n",
       "      <td>2.146719</td>\n",
       "    </tr>\n",
       "    <tr>\n",
       "      <th>27676</th>\n",
       "      <td>2010-02-11 21:00:00</td>\n",
       "      <td>0.829867</td>\n",
       "      <td>1.812314</td>\n",
       "    </tr>\n",
       "  </tbody>\n",
       "</table>\n",
       "</div>"
      ],
      "text/plain": [
       "                 Datetime  Global_active_power  Predictions\n",
       "27672 2010-02-11 17:00:00             0.655267     0.868807\n",
       "27673 2010-02-11 18:00:00             1.436367     1.116328\n",
       "27674 2010-02-11 19:00:00             2.319900     1.714665\n",
       "27675 2010-02-11 20:00:00             2.159933     2.146719\n",
       "27676 2010-02-11 21:00:00             0.829867     1.812314"
      ]
     },
     "execution_count": 284,
     "metadata": {},
     "output_type": "execute_result"
    }
   ],
   "source": [
    "valid.head()"
   ]
  },
  {
   "cell_type": "code",
   "execution_count": null,
   "id": "bf743368",
   "metadata": {},
   "outputs": [],
   "source": [
    "Showing the predicted and actual value for"
   ]
  },
  {
   "cell_type": "code",
   "execution_count": 292,
   "id": "1c353a66",
   "metadata": {},
   "outputs": [
    {
     "name": "stdout",
     "output_type": "stream",
     "text": [
      "Direct comparison for the first hour in the validation period:\n",
      "Actual value:    0.7733666666666666\n",
      "Predicted value: 1.586812973022461\n"
     ]
    }
   ],
   "source": [
    "print(\"Direct comparison for the first hour in the validation period:\")\n",
    "print(f\"Actual value:    {valid['Global_active_power'].iloc[24]}\")\n",
    "print(f\"Predicted value: {valid['Predictions'].iloc[24]}\")"
   ]
  },
  {
   "cell_type": "code",
   "execution_count": 249,
   "id": "309417c2",
   "metadata": {},
   "outputs": [
    {
     "data": {
      "image/png": "[encoded data removed]",
      "text/plain": [
       "<Figure size 1600x800 with 1 Axes>"
      ]
     },
     "metadata": {},
     "output_type": "display_data"
    }
   ],
   "source": [
    "plt.figure(figsize=(16,8))\n",
    "plt.title('LSTM Deep Learning Neural Networks Model')\n",
    "plt.xlabel('Datetime',fontsize=18)\n",
    "plt.ylabel('Active Power', fontsize=18)\n",
    "plt.plot(train['Global_active_power'])\n",
    "plt.plot(valid[['Global_active_power', 'Predictions']])\n",
    "plt.legend(['Train', 'Valid', 'Predictions'], loc = 'lower right')\n",
    "plt.show()"
   ]
  },
  {
   "cell_type": "code",
   "execution_count": 251,
   "id": "aa951937",
   "metadata": {},
   "outputs": [],
   "source": [
    "consumption_prediction = pd.read_csv('hourly_df.csv')"
   ]
  },
  {
   "cell_type": "code",
   "execution_count": 252,
   "id": "4e61c42a",
   "metadata": {},
   "outputs": [
    {
     "data": {
      "text/html": [
       "<div>\n",
       "<style scoped>\n",
       "    .dataframe tbody tr th:only-of-type {\n",
       "        vertical-align: middle;\n",
       "    }\n",
       "\n",
       "    .dataframe tbody tr th {\n",
       "        vertical-align: top;\n",
       "    }\n",
       "\n",
       "    .dataframe thead th {\n",
       "        text-align: right;\n",
       "    }\n",
       "</style>\n",
       "<table border=\"1\" class=\"dataframe\">\n",
       "  <thead>\n",
       "    <tr style=\"text-align: right;\">\n",
       "      <th></th>\n",
       "      <th>Datetime</th>\n",
       "      <th>Global_active_power</th>\n",
       "    </tr>\n",
       "  </thead>\n",
       "  <tbody>\n",
       "    <tr>\n",
       "      <th>0</th>\n",
       "      <td>2006-12-16 17:00:00</td>\n",
       "      <td>4.222889</td>\n",
       "    </tr>\n",
       "    <tr>\n",
       "      <th>1</th>\n",
       "      <td>2006-12-16 18:00:00</td>\n",
       "      <td>3.632200</td>\n",
       "    </tr>\n",
       "    <tr>\n",
       "      <th>2</th>\n",
       "      <td>2006-12-16 19:00:00</td>\n",
       "      <td>3.400233</td>\n",
       "    </tr>\n",
       "    <tr>\n",
       "      <th>3</th>\n",
       "      <td>2006-12-16 20:00:00</td>\n",
       "      <td>3.268567</td>\n",
       "    </tr>\n",
       "    <tr>\n",
       "      <th>4</th>\n",
       "      <td>2006-12-16 21:00:00</td>\n",
       "      <td>3.056467</td>\n",
       "    </tr>\n",
       "  </tbody>\n",
       "</table>\n",
       "</div>"
      ],
      "text/plain": [
       "              Datetime  Global_active_power\n",
       "0  2006-12-16 17:00:00             4.222889\n",
       "1  2006-12-16 18:00:00             3.632200\n",
       "2  2006-12-16 19:00:00             3.400233\n",
       "3  2006-12-16 20:00:00             3.268567\n",
       "4  2006-12-16 21:00:00             3.056467"
      ]
     },
     "execution_count": 252,
     "metadata": {},
     "output_type": "execute_result"
    }
   ],
   "source": [
    "consumption_prediction.head()"
   ]
  },
  {
   "cell_type": "code",
   "execution_count": 253,
   "id": "7bb8d87c",
   "metadata": {},
   "outputs": [],
   "source": [
    "new_df = consumption_prediction['Global_active_power']"
   ]
  },
  {
   "cell_type": "code",
   "execution_count": 256,
   "id": "06467991",
   "metadata": {},
   "outputs": [],
   "source": [
    "last_24_hours = new_df[-24:].values"
   ]
  },
  {
   "cell_type": "code",
   "execution_count": 257,
   "id": "825ba385",
   "metadata": {},
   "outputs": [],
   "source": [
    "last_24_hours_scaled = scaler.transform(last_24_hours.reshape(-1, 1))"
   ]
  },
  {
   "cell_type": "code",
   "execution_count": 258,
   "id": "d0828708",
   "metadata": {},
   "outputs": [],
   "source": [
    "X_test2 = []"
   ]
  },
  {
   "cell_type": "code",
   "execution_count": 259,
   "id": "c4a2e2fa",
   "metadata": {},
   "outputs": [],
   "source": [
    "X_test2.append(last_24_hours_scaled)"
   ]
  },
  {
   "cell_type": "code",
   "execution_count": 260,
   "id": "08d0fbbf",
   "metadata": {},
   "outputs": [],
   "source": [
    "X_test2 = np.array(X_test2)"
   ]
  },
  {
   "cell_type": "code",
   "execution_count": 261,
   "id": "ebaf7394",
   "metadata": {},
   "outputs": [],
   "source": [
    "X_test2 = np.reshape(X_test2,(X_test2.shape[0],X_test2.shape[1], 1))"
   ]
  },
  {
   "cell_type": "code",
   "execution_count": 262,
   "id": "d795788f",
   "metadata": {},
   "outputs": [
    {
     "name": "stdout",
     "output_type": "stream",
     "text": [
      "1/1 [==============================] - 0s 25ms/step\n"
     ]
    }
   ],
   "source": [
    "pred_price = model.predict(X_test2)"
   ]
  },
  {
   "cell_type": "code",
   "execution_count": 265,
   "id": "b04f4262",
   "metadata": {},
   "outputs": [
    {
     "name": "stdout",
     "output_type": "stream",
     "text": [
      "The predicted consumption 24 hours from the end, is:  [[5.7476616]]\n"
     ]
    }
   ],
   "source": [
    "pred_price = scaler.inverse_transform(pred_price)\n",
    "print('The predicted consumption 24 hours from the end, is: ', pred_price)                                      "
   ]
  }
 ],
 "metadata": {
  "kernelspec": {
   "display_name": "Python 3 (ipykernel)",
   "language": "python",
   "name": "python3"
  },
  "language_info": {
   "codemirror_mode": {
    "name": "ipython",
    "version": 3
   },
   "file_extension": ".py",
   "mimetype": "text/x-python",
   "name": "python",
   "nbconvert_exporter": "python",
   "pygments_lexer": "ipython3",
   "version": "3.11.4"
  }
 },
 "nbformat": 4,
 "nbformat_minor": 5
}
